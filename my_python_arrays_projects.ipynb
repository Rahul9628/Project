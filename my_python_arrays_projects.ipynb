{
  "cells": [
    {
      "cell_type": "markdown",
      "metadata": {
        "id": "view-in-github",
        "colab_type": "text"
      },
      "source": [
        "<a href=\"https://colab.research.google.com/github/Rahul9628/Project/blob/main/class_work_of_manpreet_maam_checkpoint.ipynb\" target=\"_parent\"><img src=\"https://colab.research.google.com/assets/colab-badge.svg\" alt=\"Open In Colab\"/></a>"
      ]
    },
    {
      "cell_type": "code",
      "execution_count": null,
      "id": "b078f241",
      "metadata": {
        "id": "b078f241",
        "outputId": "4dcff609-9578-4cab-f1de-93db41540eb6"
      },
      "outputs": [
        {
          "name": "stdout",
          "output_type": "stream",
          "text": [
            "<class 'array.array'>\n"
          ]
        }
      ],
      "source": [
        "#array\n",
        "import array\n",
        "from array import*\n",
        "arr=array('i',[1,2,3,4,5])\n",
        "print(type(arr))"
      ]
    },
    {
      "cell_type": "code",
      "execution_count": null,
      "id": "122e17e2",
      "metadata": {
        "id": "122e17e2",
        "outputId": "96afbb96-3a3e-4346-b1a0-eae4b38db46d"
      },
      "outputs": [
        {
          "name": "stdout",
          "output_type": "stream",
          "text": [
            "array('i', [1, 2, 3, 4, 5, 6, 6])\n"
          ]
        }
      ],
      "source": [
        "arr.append(6)\n",
        "print(arr)"
      ]
    },
    {
      "cell_type": "code",
      "execution_count": null,
      "id": "70239203",
      "metadata": {
        "id": "70239203",
        "outputId": "cd75dbf2-e22e-4f5c-c8f6-967a6862cad7"
      },
      "outputs": [
        {
          "name": "stdout",
          "output_type": "stream",
          "text": [
            "array('i', [1, 2, -10, 3, 4, 5, 6, 6])\n"
          ]
        }
      ],
      "source": [
        "arr.insert(2,-10)\n",
        "print(arr)"
      ]
    },
    {
      "cell_type": "code",
      "execution_count": null,
      "id": "5f50d767",
      "metadata": {
        "id": "5f50d767",
        "outputId": "95d4979b-6fb8-462a-aa5f-32b583d4187a"
      },
      "outputs": [
        {
          "name": "stdout",
          "output_type": "stream",
          "text": [
            "6\n"
          ]
        }
      ],
      "source": [
        "l=len(arr)\n",
        "print(l)"
      ]
    },
    {
      "cell_type": "code",
      "execution_count": null,
      "id": "23fb316e",
      "metadata": {
        "id": "23fb316e",
        "outputId": "cca66e6b-8ba3-4c43-a82d-621d112bca6f"
      },
      "outputs": [
        {
          "name": "stdout",
          "output_type": "stream",
          "text": [
            "array('i', [1, 2, -10, 4, 5, 6, 6])\n"
          ]
        }
      ],
      "source": [
        "arr.remove(3)\n",
        "print(arr)"
      ]
    },
    {
      "cell_type": "code",
      "execution_count": null,
      "id": "0a819c8f",
      "metadata": {
        "id": "0a819c8f",
        "outputId": "134bad45-7ad8-4a98-8e98-0b904f7820bb"
      },
      "outputs": [
        {
          "name": "stdout",
          "output_type": "stream",
          "text": [
            "array('i', [2, -10, 4, 5, 6, 6])\n",
            "<class 'array.array'>\n"
          ]
        }
      ],
      "source": [
        "arr.remove(1)\n",
        "print(arr)\n",
        "print(type(arr))"
      ]
    },
    {
      "cell_type": "code",
      "execution_count": null,
      "id": "cf829807",
      "metadata": {
        "id": "cf829807",
        "outputId": "30935429-6948-425e-aea5-c2b8d63a1f66"
      },
      "outputs": [
        {
          "name": "stdout",
          "output_type": "stream",
          "text": [
            "6\n"
          ]
        }
      ],
      "source": [
        "l=len(arr)\n",
        "print(l)\n"
      ]
    },
    {
      "cell_type": "code",
      "execution_count": null,
      "id": "add60413",
      "metadata": {
        "id": "add60413",
        "outputId": "9799788a-16db-40f9-8141-a4bb51697150"
      },
      "outputs": [
        {
          "name": "stdout",
          "output_type": "stream",
          "text": [
            "2\n",
            "1\n"
          ]
        }
      ],
      "source": [
        "#swaping\n",
        "x=1\n",
        "y=2\n",
        "x,y=y,x\n",
        "print(x)\n",
        "print(y)"
      ]
    },
    {
      "cell_type": "code",
      "execution_count": null,
      "id": "8ef44c95",
      "metadata": {
        "id": "8ef44c95",
        "outputId": "d53f1a64-3037-49f1-9bbf-5b4875cd4b42"
      },
      "outputs": [
        {
          "name": "stdout",
          "output_type": "stream",
          "text": [
            "[38, 7, 24, 13]\n"
          ]
        }
      ],
      "source": [
        "l=[38,24,7,13,]\n",
        "l[1],l[2]=l[2],l[1]\n",
        "print(l)"
      ]
    },
    {
      "cell_type": "code",
      "execution_count": null,
      "id": "37eb0383",
      "metadata": {
        "id": "37eb0383",
        "outputId": "3d165b9f-a868-4c11-b275-fd9c3f027fb8"
      },
      "outputs": [
        {
          "name": "stdout",
          "output_type": "stream",
          "text": [
            "array('i', [39, 13, 18, 47])\n",
            "<class 'array.array'>\n"
          ]
        }
      ],
      "source": [
        "a=array('i',[39,13,47,18])\n",
        "a[2],a[3]=a[3],a[2]\n",
        "print(a)\n",
        "print(type(a))"
      ]
    },
    {
      "cell_type": "code",
      "execution_count": null,
      "id": "8ebc353d",
      "metadata": {
        "id": "8ebc353d"
      },
      "outputs": [],
      "source": [
        "a=array('i',[39])"
      ]
    },
    {
      "cell_type": "code",
      "execution_count": null,
      "id": "1918b3ba",
      "metadata": {
        "id": "1918b3ba",
        "outputId": "75a66e08-a208-45de-cbe7-f1291858f656"
      },
      "outputs": [
        {
          "name": "stdout",
          "output_type": "stream",
          "text": [
            "array('i', [12, 25, 34, 64])\n"
          ]
        }
      ],
      "source": [
        "#bubble sort programme\n",
        "def bubble_sort(array):\n",
        "    n=len(arr)\n",
        "    for i in range(0,n-1):\n",
        "        for j in range(0,n-i-1):\n",
        "            if arr[j]>arr[j+1]:\n",
        "                arr[j],arr[j+1]=arr[j+1],arr[j]\n",
        "arr=array('i',[64,34,25,12])\n",
        "bubble_sort(arr)\n",
        "print(arr)"
      ]
    },
    {
      "cell_type": "code",
      "execution_count": null,
      "id": "fd93830a",
      "metadata": {
        "id": "fd93830a",
        "outputId": "493fa504-cdb1-40bc-ec1a-c58f14412540"
      },
      "outputs": [
        {
          "name": "stdout",
          "output_type": "stream",
          "text": [
            "array('i', [1, 4, 8, 9, 12, 16, 25, 25, 32, 34, 45, 45, 45, 56, 64, 65, 65, 78, 78, 87, 89, 89, 89, 98, 98, 104])\n"
          ]
        }
      ],
      "source": [
        "def bubble_sort(array):\n",
        "    n=len(arr)\n",
        "    for i in range(0,n-1):\n",
        "        for j in range(0,n-i-1):\n",
        "            if arr[j]>arr[j+1]:\n",
        "                arr[j],arr[j+1]=arr[j+1],arr[j]\n",
        "arr=array('i',[64,34,25,12,25,45,65,78,89,9,8,56,98,4,1,104,45,65,89,78,87,98,89,45,16,32,])\n",
        "bubble_sort(arr)\n",
        "print(arr)"
      ]
    },
    {
      "cell_type": "code",
      "execution_count": null,
      "id": "21d68974",
      "metadata": {
        "id": "21d68974",
        "outputId": "ca1121cc-f9af-4e75-9d50-b8b87f426b03"
      },
      "outputs": [
        {
          "name": "stdout",
          "output_type": "stream",
          "text": [
            "array('i', [12, 14, 2, 6, 8, 45])\n",
            "array('i', [9, 7, 65, 49, 23, 32])\n"
          ]
        }
      ],
      "source": [
        "# divide array with define function\n",
        "arr=array('i',[12,14,2,6,8,45,9,7,65,49,23,32])\n",
        "def array_divide(array):\n",
        "    n=len(arr)\n",
        "    mid=n//2\n",
        "    part1=arr[: mid]\n",
        "    part2=arr[mid :]\n",
        "array_divide(arr)\n",
        "print(part1)\n",
        "print(part2)"
      ]
    },
    {
      "cell_type": "code",
      "execution_count": null,
      "id": "f176e140",
      "metadata": {
        "id": "f176e140",
        "outputId": "892c8bcb-d037-4f44-98a0-3caf88df974d"
      },
      "outputs": [
        {
          "name": "stdout",
          "output_type": "stream",
          "text": [
            "array('i', [12, 14, 2, 6, 8, 45])\n",
            "array('i', [9, 7, 65, 49, 23, 32])\n"
          ]
        }
      ],
      "source": [
        "# divide an array without def function\n",
        "arr=array('i',[12,14,2,6,8,45,9,7,65,49,23,32])\n",
        "n= len(arr)\n",
        "mid=n//2\n",
        "part1=arr[:mid]\n",
        "part2=arr[mid:]\n",
        "print(part1)\n",
        "print(part2)\n"
      ]
    },
    {
      "cell_type": "code",
      "execution_count": null,
      "id": "933353b3",
      "metadata": {
        "id": "933353b3",
        "outputId": "4d006fc6-8e76-4754-a663-23c6866adee9"
      },
      "outputs": [
        {
          "name": "stdout",
          "output_type": "stream",
          "text": [
            "array('i', [12, 14, 2, 6, 8, 45])\n",
            "array('i', [9, 7, 65, 49, 23, 32])\n"
          ]
        }
      ],
      "source": [
        "arr=array('i',[12,14,2,6,8,45,9,7,65,49,23,32])\n",
        "def array_divide(array):\n",
        "    mid=(len(arr))//2\n",
        "    part1=arr[: mid]\n",
        "    part2=arr[mid :]\n",
        "array_divide(arr)\n",
        "print(part1)\n",
        "print(part2)"
      ]
    },
    {
      "cell_type": "code",
      "execution_count": null,
      "id": "b84fe783",
      "metadata": {
        "id": "b84fe783",
        "outputId": "d0f8164f-47ad-4424-fd39-97b528c227c0"
      },
      "outputs": [
        {
          "name": "stdout",
          "output_type": "stream",
          "text": [
            "array('i', [1, 2, 3])\n",
            "array('i', [4, 5, 6])\n"
          ]
        }
      ],
      "source": [
        "part1=None\n",
        "part2=None\n",
        "def array_divide(array):\n",
        "    global part1,part2\n",
        "    mid=(len(a))//2\n",
        "    part1=a[:mid]\n",
        "    part2=a[mid:]\n",
        "a=array('i',[1,2,3,4,5,6])\n",
        "array_divide(arr)\n",
        "print(part1)\n",
        "print(part2)"
      ]
    },
    {
      "cell_type": "code",
      "execution_count": null,
      "id": "347658bc",
      "metadata": {
        "id": "347658bc",
        "outputId": "c84813ab-cf46-478f-9491-6a435407b199"
      },
      "outputs": [
        {
          "name": "stdout",
          "output_type": "stream",
          "text": [
            "array('i', [12, 14, 2, 6])\n",
            "array('i', [8, 45, 9, 7])\n",
            "array('i', [65, 49, 23, 32])\n"
          ]
        }
      ],
      "source": [
        "arr=array('i',[12,14,2,6,8,45,9,7,65,49,23,32])\n",
        "part1=None\n",
        "part2=None\n",
        "part3=None\n",
        "def array_divide(array):\n",
        "    global part1,part2,part3\n",
        "    mid=(len(arr))//3\n",
        "    part1=arr[: mid]\n",
        "    part2=arr[mid : 2*mid]\n",
        "    part3=arr[2*mid:]\n",
        "array_divide(arr)\n",
        "print(part1)\n",
        "print(part2)\n",
        "print(part3)"
      ]
    },
    {
      "cell_type": "code",
      "execution_count": null,
      "id": "a74ddac0",
      "metadata": {
        "id": "a74ddac0",
        "outputId": "f5e579b2-2635-4d20-b086-6a6f78de07a4"
      },
      "outputs": [
        {
          "name": "stdout",
          "output_type": "stream",
          "text": [
            "array('i', [12, 14, 2])\n",
            "array('i', [6, 8, 45])\n",
            "array('i', [9, 7, 65])\n",
            "array('i', [49, 23, 32])\n"
          ]
        }
      ],
      "source": [
        "arr=array('i',[12,14,2,6,8,45,9,7,65,49,23,32])\n",
        "part1=None\n",
        "part2=None\n",
        "part3=None\n",
        "part4=None\n",
        "def array_divide(array):\n",
        "    global part1,part2,part3,part4\n",
        "    mid=(len(arr))//4\n",
        "    part1=arr[: mid]\n",
        "    part2=arr[mid : 2*mid]\n",
        "    part3=arr[2*mid: 3*mid]\n",
        "    part4=arr[3*mid: ]\n",
        "array_divide(arr)\n",
        "print(part1)\n",
        "print(part2)\n",
        "print(part3)\n",
        "print(part4)"
      ]
    },
    {
      "cell_type": "code",
      "execution_count": null,
      "id": "79c32307",
      "metadata": {
        "id": "79c32307",
        "outputId": "8199c095-1e09-4686-a1bd-00a1ad75dbe6"
      },
      "outputs": [
        {
          "name": "stdout",
          "output_type": "stream",
          "text": [
            "array('i', [1, 2, 3, 4, 5, 6])\n"
          ]
        }
      ],
      "source": [
        "#selection sorting method\n",
        "def selection_sort(array):\n",
        "    n=len(arr)\n",
        "    for i in range (0,n-1):\n",
        "        min_value = i\n",
        "        for j in range (i+1,n):\n",
        "            if arr[min_value]>arr[j]:\n",
        "                min_value = j\n",
        "        arr[i],arr[min_value] = arr[min_value],arr[i]\n",
        "arr = array('i',[2,6,5,1,3,4])\n",
        "selection_sort(arr)\n",
        "print(arr)"
      ]
    },
    {
      "cell_type": "code",
      "execution_count": null,
      "id": "a93120ec",
      "metadata": {
        "id": "a93120ec",
        "outputId": "4db04431-7e4f-45ea-c882-56e2751744fd"
      },
      "outputs": [
        {
          "name": "stdout",
          "output_type": "stream",
          "text": [
            "array('i', [1, 2, 3, 4, 5, 6])\n"
          ]
        }
      ],
      "source": [
        "#insertion sorting method\n",
        "import array\n",
        "from array import *\n",
        "def insertion_sort(array):\n",
        "    n=len(arr)\n",
        "    for i in range(1,n):\n",
        "        j = i\n",
        "        while arr[j-1]>arr[j]and j>0:\n",
        "             arr[j-1],arr[j]=arr[j],arr[j-1]\n",
        "             j=j-1\n",
        "arr=array('i',[2,6,5,1,3,4])\n",
        "insertion_sort(arr)\n",
        "print(arr)\n",
        ""
      ]
    },
    {
      "cell_type": "code",
      "execution_count": null,
      "id": "ac6b7593",
      "metadata": {
        "id": "ac6b7593",
        "outputId": "735eabc9-de80-416e-acc3-a75fb807b592"
      },
      "outputs": [
        {
          "name": "stdout",
          "output_type": "stream",
          "text": [
            "array('i', [1, 1, 2, 3, 4, 5, 5, 6, 11, 14, 15, 31, 32, 45, 54, 62, 78])\n"
          ]
        }
      ],
      "source": [
        "def insertion_sort(array):\n",
        "    n=len(arr)\n",
        "    for i in range(1,n):\n",
        "        j = i\n",
        "        while arr[j-1]>arr[j]and j>0:\n",
        "             arr[j-1],arr[j]=arr[j],arr[j-1]\n",
        "             j=j-1\n",
        "arr=array('i',[2,6,5,1,3,4,11,45,78,54,62,32,1,31,5,15,14])\n",
        "insertion_sort(arr)\n",
        "print(arr)"
      ]
    },
    {
      "cell_type": "code",
      "execution_count": null,
      "id": "6303fdb8",
      "metadata": {
        "id": "6303fdb8"
      },
      "outputs": [],
      "source": [
        "import array\n",
        "from array import *\n",
        "import numpy as np"
      ]
    },
    {
      "cell_type": "code",
      "execution_count": null,
      "id": "0234a177",
      "metadata": {
        "id": "0234a177",
        "outputId": "460ba6f0-1de6-4d7c-fbc0-aba8bebbaf15"
      },
      "outputs": [
        {
          "name": "stdout",
          "output_type": "stream",
          "text": [
            "15\n",
            "1\n",
            "56\n"
          ]
        }
      ],
      "source": [
        "#sum,diffrence and multi of two hightest number of an array\n",
        "arr=array(\"i\",[2,3,5,8,7,4])\n",
        "a=max(arr)\n",
        "b=np.sort(arr)\n",
        "c=len(b)\n",
        "sum=b[c-1]+b[c-2]\n",
        "diffrence=b[c-1]-b[c-2]\n",
        "multi=b[c-1]*b[c-2]\n",
        "print(sum)\n",
        "print(diffrence)\n",
        "print(multi)"
      ]
    },
    {
      "cell_type": "code",
      "execution_count": null,
      "id": "4a425382",
      "metadata": {
        "id": "4a425382"
      },
      "outputs": [],
      "source": []
    }
  ],
  "metadata": {
    "kernelspec": {
      "display_name": "Python 3 (ipykernel)",
      "language": "python",
      "name": "python3"
    },
    "language_info": {
      "codemirror_mode": {
        "name": "ipython",
        "version": 3
      },
      "file_extension": ".py",
      "mimetype": "text/x-python",
      "name": "python",
      "nbconvert_exporter": "python",
      "pygments_lexer": "ipython3",
      "version": "3.11.5"
    },
    "colab": {
      "provenance": [],
      "include_colab_link": true
    }
  },
  "nbformat": 4,
  "nbformat_minor": 5
}
