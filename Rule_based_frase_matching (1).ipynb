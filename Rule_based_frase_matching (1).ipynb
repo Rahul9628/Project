{
 "cells": [
  {
   "cell_type": "code",
   "execution_count": 31,
   "id": "b03c52b4",
   "metadata": {},
   "outputs": [],
   "source": [
    "import spacy"
   ]
  },
  {
   "cell_type": "code",
   "execution_count": 32,
   "id": "aa373ff9",
   "metadata": {},
   "outputs": [],
   "source": [
    "nlp =spacy.load('en_core_web_sm')"
   ]
  },
  {
   "cell_type": "code",
   "execution_count": 33,
   "id": "1af247d5",
   "metadata": {},
   "outputs": [],
   "source": [
    "#import matcher\n",
    "from spacy.matcher import Matcher"
   ]
  },
  {
   "cell_type": "code",
   "execution_count": 34,
   "id": "4161cdcc",
   "metadata": {},
   "outputs": [],
   "source": [
    "matcher = Matcher(nlp.vocab)"
   ]
  },
  {
   "cell_type": "code",
   "execution_count": 35,
   "id": "adfbe6c7",
   "metadata": {},
   "outputs": [],
   "source": [
    "#creating patterns\n",
    "pattern1=[{'LOWER':'solarpower'}]\n",
    "pattern2=[{'LOWER':'solar'},{'LOWER':'power'}]\n",
    "pattern3=[{'LOWER':'solar'},{'IS_PUNCT':True},{'LOWER':'power'}]"
   ]
  },
  {
   "cell_type": "code",
   "execution_count": 36,
   "id": "ca02e6c2",
   "metadata": {},
   "outputs": [],
   "source": [
    "matcher.add('SolarPower',[pattern1,pattern2,pattern3])"
   ]
  },
  {
   "cell_type": "code",
   "execution_count": 37,
   "id": "ecdcd418",
   "metadata": {},
   "outputs": [],
   "source": [
    "doc=nlp('The Solar Power industry continues to grow a solarpower increases. Solar-power cars are gaining popularity')"
   ]
  },
  {
   "cell_type": "code",
   "execution_count": 38,
   "id": "737e2bb1",
   "metadata": {},
   "outputs": [
    {
     "name": "stdout",
     "output_type": "stream",
     "text": [
      "[(8656102463236116519, 1, 3), (8656102463236116519, 8, 9), (8656102463236116519, 11, 14)]\n"
     ]
    }
   ],
   "source": [
    "found_matches = matcher(doc)\n",
    "print(found_matches)"
   ]
  },
  {
   "cell_type": "code",
   "execution_count": 39,
   "id": "29ff1c2c",
   "metadata": {},
   "outputs": [
    {
     "name": "stdout",
     "output_type": "stream",
     "text": [
      "8656102463236116519 SolarPower 1 3 Solar Power\n",
      "8656102463236116519 SolarPower 8 9 solarpower\n",
      "8656102463236116519 SolarPower 11 14 Solar-power\n"
     ]
    }
   ],
   "source": [
    "for match_id,start,end in found_matches:\n",
    "    string_id=nlp.vocab.strings[match_id]\n",
    "    span=doc[start:end]\n",
    "    print(match_id, string_id, start, end, span.text)\n",
    "#the match_id is simply hash value of string_id "
   ]
  },
  {
   "cell_type": "code",
   "execution_count": 40,
   "id": "fac44c02",
   "metadata": {},
   "outputs": [],
   "source": [
    "doc=nlp('The Solar Power industry continues to grow a solarpower increases. Solar-power cars are gaining popularity')"
   ]
  },
  {
   "cell_type": "code",
   "execution_count": 41,
   "id": "9b18ae55",
   "metadata": {},
   "outputs": [],
   "source": [
    "#redefine pattern\n",
    "pattern1=[{'LOWER':'solarpower'}]\n",
    "pattern2=[{'LOWER':'solar'},{'IS_PUNCT':True,'OP':'+'},{'LOWER':'power'}]"
   ]
  },
  {
   "cell_type": "code",
   "execution_count": 42,
   "id": "bdf01df9",
   "metadata": {},
   "outputs": [],
   "source": [
    "matcher.add('SolarPower',[pattern1,pattern2])"
   ]
  },
  {
   "cell_type": "code",
   "execution_count": 43,
   "id": "4adc7101",
   "metadata": {},
   "outputs": [
    {
     "name": "stdout",
     "output_type": "stream",
     "text": [
      "[(8656102463236116519, 1, 3), (8656102463236116519, 8, 9), (8656102463236116519, 11, 14)]\n"
     ]
    }
   ],
   "source": [
    "found_matches = matcher(doc)\n",
    "print(found_matches)"
   ]
  },
  {
   "cell_type": "code",
   "execution_count": 44,
   "id": "63ddcaec",
   "metadata": {},
   "outputs": [],
   "source": [
    "#homework\n",
    "doc=nlp('I am studying machine learning and artificial intelligence')\n",
    "pattern1=[{'LOWER':'machinelearning'}]\n",
    "pattern2=[{'LOWER':'machine'},{'LOWER':'learning'}]\n",
    "pattern3=[{'LOWER':'artificialintelligence'}]\n",
    "pattern4=[{'LOWER':'artificial'},{'LOWER':'intelligence'}]"
   ]
  },
  {
   "cell_type": "code",
   "execution_count": 45,
   "id": "75800999",
   "metadata": {},
   "outputs": [],
   "source": [
    "matcher.add('MachineLearning',[pattern1,pattern2])\n",
    "matcher.add('ArtificialIntelligence',[pattern3,pattern4])"
   ]
  },
  {
   "cell_type": "code",
   "execution_count": 46,
   "id": "898e9709",
   "metadata": {},
   "outputs": [
    {
     "data": {
      "text/plain": [
       "[(9506786281736591487, 3, 5), (8933914146489643596, 6, 8)]"
      ]
     },
     "execution_count": 46,
     "metadata": {},
     "output_type": "execute_result"
    }
   ],
   "source": [
    "matcher(doc)"
   ]
  },
  {
   "cell_type": "code",
   "execution_count": 56,
   "id": "86de3e68",
   "metadata": {},
   "outputs": [],
   "source": [
    "from spacy.matcher import PhraseMatcher\n",
    "phrase_matcher=PhraseMatcher(nlp.vocab)"
   ]
  },
  {
   "cell_type": "code",
   "execution_count": 57,
   "id": "9a343e39",
   "metadata": {},
   "outputs": [],
   "source": [
    "phrases=['machine learning','artificial intelligence','deep learning']"
   ]
  },
  {
   "cell_type": "code",
   "execution_count": 58,
   "id": "f0948c3c",
   "metadata": {},
   "outputs": [],
   "source": [
    "patterns=[nlp(text)for text in phrases]"
   ]
  },
  {
   "cell_type": "code",
   "execution_count": 61,
   "id": "5dc072b1",
   "metadata": {},
   "outputs": [],
   "source": [
    "phrase_matcher.add('AI_TERMS',patterns)"
   ]
  },
  {
   "cell_type": "code",
   "execution_count": 71,
   "id": "f48043f2",
   "metadata": {},
   "outputs": [],
   "source": [
    "doc=nlp('I am studying machine learning and artificial intelligence')"
   ]
  },
  {
   "cell_type": "code",
   "execution_count": 72,
   "id": "376380dd",
   "metadata": {},
   "outputs": [],
   "source": [
    "matches=phrase_matcher(doc)"
   ]
  },
  {
   "cell_type": "code",
   "execution_count": 73,
   "id": "964881e9",
   "metadata": {},
   "outputs": [
    {
     "data": {
      "text/plain": [
       "[(14703051462556166204, 3, 5), (14703051462556166204, 6, 8)]"
      ]
     },
     "execution_count": 73,
     "metadata": {},
     "output_type": "execute_result"
    }
   ],
   "source": [
    "matches"
   ]
  },
  {
   "cell_type": "code",
   "execution_count": 1,
   "id": "b1992f7e",
   "metadata": {},
   "outputs": [],
   "source": [
    "#assignment1"
   ]
  },
  {
   "cell_type": "code",
   "execution_count": 93,
   "id": "b378980d",
   "metadata": {},
   "outputs": [
    {
     "ename": "ExtraData",
     "evalue": "unpack(b) received extra data.",
     "output_type": "error",
     "traceback": [
      "\u001b[1;31m---------------------------------------------------------------------------\u001b[0m",
      "\u001b[1;31mExtraData\u001b[0m                                 Traceback (most recent call last)",
      "Cell \u001b[1;32mIn[93], line 3\u001b[0m\n\u001b[0;32m      1\u001b[0m fpath\u001b[38;5;241m=\u001b[39m\u001b[38;5;124mr\u001b[39m\u001b[38;5;124m'\u001b[39m\u001b[38;5;124mC:\u001b[39m\u001b[38;5;124m\\\u001b[39m\u001b[38;5;124mUsers\u001b[39m\u001b[38;5;124m\\\u001b[39m\u001b[38;5;124mrahulpathak\u001b[39m\u001b[38;5;124m\\\u001b[39m\u001b[38;5;124mDownloads\u001b[39m\u001b[38;5;124m\\\u001b[39m\u001b[38;5;124mreaganomics.txt\u001b[39m\u001b[38;5;124m'\u001b[39m\n\u001b[0;32m      2\u001b[0m \u001b[38;5;28;01mwith\u001b[39;00m \u001b[38;5;28mopen\u001b[39m(fpath, \u001b[38;5;124m'\u001b[39m\u001b[38;5;124mrb\u001b[39m\u001b[38;5;124m'\u001b[39m) \u001b[38;5;28;01mas\u001b[39;00m myfile:\n\u001b[1;32m----> 3\u001b[0m     doc\u001b[38;5;241m=\u001b[39m nlp(myfile\u001b[38;5;241m.\u001b[39mread())\n",
      "File \u001b[1;32m~\\AppData\\Roaming\\Python\\Python311\\site-packages\\spacy\\language.py:1037\u001b[0m, in \u001b[0;36mLanguage.__call__\u001b[1;34m(self, text, disable, component_cfg)\u001b[0m\n\u001b[0;32m   1016\u001b[0m \u001b[38;5;28;01mdef\u001b[39;00m \u001b[38;5;21m__call__\u001b[39m(\n\u001b[0;32m   1017\u001b[0m     \u001b[38;5;28mself\u001b[39m,\n\u001b[0;32m   1018\u001b[0m     text: Union[\u001b[38;5;28mstr\u001b[39m, Doc],\n\u001b[1;32m   (...)\u001b[0m\n\u001b[0;32m   1021\u001b[0m     component_cfg: Optional[Dict[\u001b[38;5;28mstr\u001b[39m, Dict[\u001b[38;5;28mstr\u001b[39m, Any]]] \u001b[38;5;241m=\u001b[39m \u001b[38;5;28;01mNone\u001b[39;00m,\n\u001b[0;32m   1022\u001b[0m ) \u001b[38;5;241m-\u001b[39m\u001b[38;5;241m>\u001b[39m Doc:\n\u001b[0;32m   1023\u001b[0m \u001b[38;5;250m    \u001b[39m\u001b[38;5;124;03m\"\"\"Apply the pipeline to some text. The text can span multiple sentences,\u001b[39;00m\n\u001b[0;32m   1024\u001b[0m \u001b[38;5;124;03m    and can contain arbitrary whitespace. Alignment into the original string\u001b[39;00m\n\u001b[0;32m   1025\u001b[0m \u001b[38;5;124;03m    is preserved.\u001b[39;00m\n\u001b[1;32m   (...)\u001b[0m\n\u001b[0;32m   1035\u001b[0m \u001b[38;5;124;03m    DOCS: https://spacy.io/api/language#call\u001b[39;00m\n\u001b[0;32m   1036\u001b[0m \u001b[38;5;124;03m    \"\"\"\u001b[39;00m\n\u001b[1;32m-> 1037\u001b[0m     doc \u001b[38;5;241m=\u001b[39m \u001b[38;5;28mself\u001b[39m\u001b[38;5;241m.\u001b[39m_ensure_doc(text)\n\u001b[0;32m   1038\u001b[0m     \u001b[38;5;28;01mif\u001b[39;00m component_cfg \u001b[38;5;129;01mis\u001b[39;00m \u001b[38;5;28;01mNone\u001b[39;00m:\n\u001b[0;32m   1039\u001b[0m         component_cfg \u001b[38;5;241m=\u001b[39m {}\n",
      "File \u001b[1;32m~\\AppData\\Roaming\\Python\\Python311\\site-packages\\spacy\\language.py:1130\u001b[0m, in \u001b[0;36mLanguage._ensure_doc\u001b[1;34m(self, doc_like)\u001b[0m\n\u001b[0;32m   1128\u001b[0m     \u001b[38;5;28;01mreturn\u001b[39;00m \u001b[38;5;28mself\u001b[39m\u001b[38;5;241m.\u001b[39mmake_doc(doc_like)\n\u001b[0;32m   1129\u001b[0m \u001b[38;5;28;01mif\u001b[39;00m \u001b[38;5;28misinstance\u001b[39m(doc_like, \u001b[38;5;28mbytes\u001b[39m):\n\u001b[1;32m-> 1130\u001b[0m     \u001b[38;5;28;01mreturn\u001b[39;00m Doc(\u001b[38;5;28mself\u001b[39m\u001b[38;5;241m.\u001b[39mvocab)\u001b[38;5;241m.\u001b[39mfrom_bytes(doc_like)\n\u001b[0;32m   1131\u001b[0m \u001b[38;5;28;01mraise\u001b[39;00m \u001b[38;5;167;01mValueError\u001b[39;00m(Errors\u001b[38;5;241m.\u001b[39mE1041\u001b[38;5;241m.\u001b[39mformat(\u001b[38;5;28mtype\u001b[39m\u001b[38;5;241m=\u001b[39m\u001b[38;5;28mtype\u001b[39m(doc_like)))\n",
      "File \u001b[1;32m~\\AppData\\Roaming\\Python\\Python311\\site-packages\\spacy\\tokens\\doc.pyx:1362\u001b[0m, in \u001b[0;36mspacy.tokens.doc.Doc.from_bytes\u001b[1;34m()\u001b[0m\n",
      "File \u001b[1;32m~\\AppData\\Roaming\\Python\\Python311\\site-packages\\srsly\\_msgpack_api.py:27\u001b[0m, in \u001b[0;36mmsgpack_loads\u001b[1;34m(data, use_list)\u001b[0m\n\u001b[0;32m     25\u001b[0m \u001b[38;5;66;03m# msgpack-python docs suggest disabling gc before unpacking large messages\u001b[39;00m\n\u001b[0;32m     26\u001b[0m gc\u001b[38;5;241m.\u001b[39mdisable()\n\u001b[1;32m---> 27\u001b[0m msg \u001b[38;5;241m=\u001b[39m msgpack\u001b[38;5;241m.\u001b[39mloads(data, raw\u001b[38;5;241m=\u001b[39m\u001b[38;5;28;01mFalse\u001b[39;00m, use_list\u001b[38;5;241m=\u001b[39muse_list)\n\u001b[0;32m     28\u001b[0m gc\u001b[38;5;241m.\u001b[39menable()\n\u001b[0;32m     29\u001b[0m \u001b[38;5;28;01mreturn\u001b[39;00m msg\n",
      "File \u001b[1;32m~\\AppData\\Roaming\\Python\\Python311\\site-packages\\srsly\\msgpack\\__init__.py:79\u001b[0m, in \u001b[0;36munpackb\u001b[1;34m(packed, **kwargs)\u001b[0m\n\u001b[0;32m     77\u001b[0m         object_hook \u001b[38;5;241m=\u001b[39m functools\u001b[38;5;241m.\u001b[39mpartial(decoder, chain\u001b[38;5;241m=\u001b[39mobject_hook)\n\u001b[0;32m     78\u001b[0m     kwargs[\u001b[38;5;124m\"\u001b[39m\u001b[38;5;124mobject_hook\u001b[39m\u001b[38;5;124m\"\u001b[39m] \u001b[38;5;241m=\u001b[39m object_hook\n\u001b[1;32m---> 79\u001b[0m \u001b[38;5;28;01mreturn\u001b[39;00m _unpackb(packed, \u001b[38;5;241m*\u001b[39m\u001b[38;5;241m*\u001b[39mkwargs)\n",
      "File \u001b[1;32m~\\AppData\\Roaming\\Python\\Python311\\site-packages\\srsly\\msgpack\\_unpacker.pyx:199\u001b[0m, in \u001b[0;36msrsly.msgpack._unpacker.unpackb\u001b[1;34m()\u001b[0m\n",
      "\u001b[1;31mExtraData\u001b[0m: unpack(b) received extra data."
     ]
    }
   ],
   "source": [
    "fpath=r'C:\\Users\\rahulpathak\\Downloads\\reaganomics.txt'\n",
    "with open(fpath, 'rb') as myfile:\n",
    "    doc= nlp(myfile.read())"
   ]
  },
  {
   "cell_type": "code",
   "execution_count": 89,
   "id": "8a1ffad6",
   "metadata": {},
   "outputs": [],
   "source": []
  },
  {
   "cell_type": "code",
   "execution_count": null,
   "id": "85ffaa7d",
   "metadata": {},
   "outputs": [],
   "source": [
    "phrases=['voodoo economics','supply-side economics','trickle-down economics','']"
   ]
  }
 ],
 "metadata": {
  "kernelspec": {
   "display_name": "Python 3 (ipykernel)",
   "language": "python",
   "name": "python3"
  },
  "language_info": {
   "codemirror_mode": {
    "name": "ipython",
    "version": 3
   },
   "file_extension": ".py",
   "mimetype": "text/x-python",
   "name": "python",
   "nbconvert_exporter": "python",
   "pygments_lexer": "ipython3",
   "version": "3.11.5"
  }
 },
 "nbformat": 4,
 "nbformat_minor": 5
}
