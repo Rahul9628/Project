{
  "nbformat": 4,
  "nbformat_minor": 0,
  "metadata": {
    "colab": {
      "provenance": [],
      "authorship_tag": "ABX9TyOTP1NJeHmsmt1s8SO+KJHe",
      "include_colab_link": true
    },
    "kernelspec": {
      "name": "python3",
      "display_name": "Python 3"
    },
    "language_info": {
      "name": "python"
    }
  },
  "cells": [
    {
      "cell_type": "markdown",
      "metadata": {
        "id": "view-in-github",
        "colab_type": "text"
      },
      "source": [
        "<a href=\"https://colab.research.google.com/github/Rahul9628/Project/blob/main/Untitled1.ipynb\" target=\"_parent\"><img src=\"https://colab.research.google.com/assets/colab-badge.svg\" alt=\"Open In Colab\"/></a>"
      ]
    },
    {
      "cell_type": "code",
      "execution_count": null,
      "metadata": {
        "id": "_tuE2zK-L_Ds"
      },
      "outputs": [],
      "source": [
        "n=int(input(\"enter a number to print\"))\n",
        "for i in range (n,0,-1):\n",
        "    for j in range (i):\n",
        "        print(\" *\",end='')\n",
        "    print()"
      ]
    },
    {
      "cell_type": "code",
      "source": [
        "n=int(input(\"enter a number to print design\"))\n",
        "for i in range(0,n+1):\n",
        "    print(\" \"*(n-i) +\" *\" *i )"
      ],
      "metadata": {
        "id": "DvVXc3DPMD0N"
      },
      "execution_count": null,
      "outputs": []
    },
    {
      "cell_type": "code",
      "source": [
        "n=int(input(\"enter a number to print \"))\n",
        "for i in range(0,n):\n",
        "    for j in range(i+1):\n",
        "        print(\" *\",end='')\n",
        "    print()"
      ],
      "metadata": {
        "id": "Qz740uh3MD7N"
      },
      "execution_count": null,
      "outputs": []
    }
  ]
}
