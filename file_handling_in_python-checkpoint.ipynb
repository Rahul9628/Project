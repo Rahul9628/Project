{
 "cells": [
  {
   "cell_type": "code",
   "execution_count": 9,
   "id": "948275cc",
   "metadata": {},
   "outputs": [
    {
     "name": "stdout",
     "output_type": "stream",
     "text": [
      "hey welcome to hell!!!\n",
      "are you enjoyoing here.\n"
     ]
    }
   ],
   "source": [
    "f=open(r\"C:\\Users\\rahulpathak\\New Text Document.txt\",\"r\")\n",
    "print(f.read())"
   ]
  },
  {
   "cell_type": "code",
   "execution_count": 11,
   "id": "d3acb106",
   "metadata": {},
   "outputs": [
    {
     "name": "stdout",
     "output_type": "stream",
     "text": [
      "hey welcome\n"
     ]
    }
   ],
   "source": [
    "f=open(r\"C:\\Users\\rahulpathak\\New Text Document.txt\",\"r\")\n",
    "print(f.read(11))"
   ]
  },
  {
   "cell_type": "code",
   "execution_count": 12,
   "id": "c8ef769d",
   "metadata": {},
   "outputs": [
    {
     "name": "stdout",
     "output_type": "stream",
     "text": [
      "hey welcome to hell!!!\n",
      "\n"
     ]
    }
   ],
   "source": [
    "f=open(r\"C:\\Users\\rahulpathak\\New Text Document.txt\",\"r\")\n",
    "print(f.readline())"
   ]
  },
  {
   "cell_type": "code",
   "execution_count": 13,
   "id": "20ffcd5f",
   "metadata": {},
   "outputs": [
    {
     "name": "stdout",
     "output_type": "stream",
     "text": [
      "hey welcome to hell!!!\n",
      "\n",
      "are you enjoyoing here.\n"
     ]
    }
   ],
   "source": [
    "f=open(r\"C:\\Users\\rahulpathak\\New Text Document.txt\",\"r\")\n",
    "print(f.readline())\n",
    "print(f.readline())"
   ]
  },
  {
   "cell_type": "code",
   "execution_count": 14,
   "id": "64431352",
   "metadata": {},
   "outputs": [
    {
     "name": "stdout",
     "output_type": "stream",
     "text": [
      "hey welcome to hell!!!\n",
      "\n",
      "are you enjoyoing here.\n"
     ]
    }
   ],
   "source": [
    "f=open(r\"C:\\Users\\rahulpathak\\New Text Document.txt\",\"r\")\n",
    "for i in f:\n",
    "    print(i)"
   ]
  },
  {
   "cell_type": "code",
   "execution_count": 15,
   "id": "9313f7ba",
   "metadata": {},
   "outputs": [
    {
     "name": "stdout",
     "output_type": "stream",
     "text": [
      "hey welcome to hell!!!\n",
      "\n"
     ]
    },
    {
     "data": {
      "text/plain": [
       "<function TextIOWrapper.close()>"
      ]
     },
     "execution_count": 15,
     "metadata": {},
     "output_type": "execute_result"
    }
   ],
   "source": [
    "f=open(r\"C:\\Users\\rahulpathak\\New Text Document.txt\",\"r\")\n",
    "print(f.readline())\n",
    "f.close"
   ]
  },
  {
   "cell_type": "code",
   "execution_count": 19,
   "id": "8ba1da43",
   "metadata": {},
   "outputs": [],
   "source": [
    "f=open(r\"C:\\Users\\rahulpathak\\New Text Document.txt\",\"a\")\n",
    "f.write(\"now the file has more content!\")\n",
    "f.close()\n"
   ]
  },
  {
   "cell_type": "code",
   "execution_count": 20,
   "id": "e4119f31",
   "metadata": {},
   "outputs": [
    {
     "name": "stdout",
     "output_type": "stream",
     "text": [
      "hey welcome to hell!!!\n",
      "are you enjoyoing here.now the file has more content!\n"
     ]
    }
   ],
   "source": [
    "f=open(r\"C:\\Users\\rahulpathak\\New Text Document.txt\",\"r\")\n",
    "print(f.read())"
   ]
  },
  {
   "cell_type": "code",
   "execution_count": 23,
   "id": "510a1bb5",
   "metadata": {},
   "outputs": [],
   "source": [
    "f=open(r\"C:\\Users\\rahulpathak\\New Text Document.txt\",\"w\")\n",
    "f.write(\"woops! i have delete the content\")\n",
    "f.close()"
   ]
  },
  {
   "cell_type": "code",
   "execution_count": 24,
   "id": "79796659",
   "metadata": {},
   "outputs": [
    {
     "name": "stdout",
     "output_type": "stream",
     "text": [
      "woops! i have delete the content\n"
     ]
    }
   ],
   "source": [
    "f=open(r\"C:\\Users\\rahulpathak\\New Text Document.txt\",\"r\")\n",
    "print(f.read())"
   ]
  },
  {
   "cell_type": "code",
   "execution_count": 25,
   "id": "abe2f707",
   "metadata": {},
   "outputs": [],
   "source": [
    "# CREATE A FILE CALLED \"MYFILE.TXT\":"
   ]
  },
  {
   "cell_type": "code",
   "execution_count": 27,
   "id": "d98c561c",
   "metadata": {},
   "outputs": [],
   "source": [
    "f=open(\"myfile.txt\",\"x\")"
   ]
  },
  {
   "cell_type": "code",
   "execution_count": 31,
   "id": "862989b5",
   "metadata": {},
   "outputs": [],
   "source": [
    "# create a new fie if it does not exist:\n",
    "f=open(\"myfile1.txt\",\"w\")"
   ]
  },
  {
   "cell_type": "code",
   "execution_count": null,
   "id": "7ab545aa",
   "metadata": {},
   "outputs": [],
   "source": []
  }
 ],
 "metadata": {
  "kernelspec": {
   "display_name": "Python 3 (ipykernel)",
   "language": "python",
   "name": "python3"
  },
  "language_info": {
   "codemirror_mode": {
    "name": "ipython",
    "version": 3
   },
   "file_extension": ".py",
   "mimetype": "text/x-python",
   "name": "python",
   "nbconvert_exporter": "python",
   "pygments_lexer": "ipython3",
   "version": "3.11.5"
  }
 },
 "nbformat": 4,
 "nbformat_minor": 5
}
