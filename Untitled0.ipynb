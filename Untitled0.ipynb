{
  "nbformat": 4,
  "nbformat_minor": 0,
  "metadata": {
    "colab": {
      "provenance": [],
      "authorship_tag": "ABX9TyNnRwfm5oAshnbhloFZOdSz",
      "include_colab_link": true
    },
    "kernelspec": {
      "name": "python3",
      "display_name": "Python 3"
    },
    "language_info": {
      "name": "python"
    }
  },
  "cells": [
    {
      "cell_type": "markdown",
      "metadata": {
        "id": "view-in-github",
        "colab_type": "text"
      },
      "source": [
        "<a href=\"https://colab.research.google.com/github/Rahul9628/Project/blob/main/Untitled0.ipynb\" target=\"_parent\"><img src=\"https://colab.research.google.com/assets/colab-badge.svg\" alt=\"Open In Colab\"/></a>"
      ]
    },
    {
      "cell_type": "code",
      "source": [
        "# python program to find fibonacci series using for loop"
      ],
      "metadata": {
        "id": "4G-9GedEFziZ"
      },
      "execution_count": null,
      "outputs": []
    },
    {
      "cell_type": "code",
      "source": [
        "\n",
        "n=int(input(\"enter number to print fibonacci series\"))\n",
        "def fibo(number):\n",
        "    a=0\n",
        "    b=1\n",
        "    for i in range (2,n):\n",
        "        c=a+b\n",
        "        a=b\n",
        "        b=c\n",
        "        print(c)\n",
        "fibo(n)"
      ],
      "metadata": {
        "id": "BjrVehlTF0M7"
      },
      "execution_count": null,
      "outputs": []
    }
  ]
}