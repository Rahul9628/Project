{
  "nbformat": 4,
  "nbformat_minor": 0,
  "metadata": {
    "colab": {
      "provenance": [],
      "authorship_tag": "ABX9TyMCInNnSIoOkI+9unV/PCi8",
      "include_colab_link": true
    },
    "kernelspec": {
      "name": "python3",
      "display_name": "Python 3"
    },
    "language_info": {
      "name": "python"
    }
  },
  "cells": [
    {
      "cell_type": "markdown",
      "metadata": {
        "id": "view-in-github",
        "colab_type": "text"
      },
      "source": [
        "<a href=\"https://colab.research.google.com/github/Rahul9628/Project/blob/main/Untitled0.ipynb\" target=\"_parent\"><img src=\"https://colab.research.google.com/assets/colab-badge.svg\" alt=\"Open In Colab\"/></a>"
      ]
    },
    {
      "cell_type": "code",
      "source": [
        "#sorting an array in ascending order using in selection_sort"
      ],
      "metadata": {
        "id": "4G-9GedEFziZ"
      },
      "execution_count": null,
      "outputs": []
    },
    {
      "cell_type": "code",
      "source": [
        "import array\n",
        "from array import *"
      ],
      "metadata": {
        "id": "BjrVehlTF0M7"
      },
      "execution_count": null,
      "outputs": []
    },
    {
      "cell_type": "code",
      "source": [
        "#selection sorting method\n",
        "def selection_sort(array):\n",
        "    n=len(arr)\n",
        "    for i in range (0,n-1):\n",
        "        min_value = i\n",
        "        for j in range (i+1,n):\n",
        "            if arr[min_value]>arr[j]:\n",
        "                min_value = j\n",
        "        arr[i],arr[min_value] = arr[min_value],arr[i]\n",
        "arr = array('i',[2,6,5,1,3,4])\n",
        "selection_sort(arr)\n",
        "print(arr)"
      ],
      "metadata": {
        "id": "AX590Lxn3vGU"
      },
      "execution_count": null,
      "outputs": []
    }
  ]
}