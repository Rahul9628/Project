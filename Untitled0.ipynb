{
  "nbformat": 4,
  "nbformat_minor": 0,
  "metadata": {
    "colab": {
      "provenance": [],
      "authorship_tag": "ABX9TyMHPOFuTy/gP7AAQPmoH6Gz",
      "include_colab_link": true
    },
    "kernelspec": {
      "name": "python3",
      "display_name": "Python 3"
    },
    "language_info": {
      "name": "python"
    }
  },
  "cells": [
    {
      "cell_type": "markdown",
      "metadata": {
        "id": "view-in-github",
        "colab_type": "text"
      },
      "source": [
        "<a href=\"https://colab.research.google.com/github/Rahul9628/Project/blob/main/Untitled0.ipynb\" target=\"_parent\"><img src=\"https://colab.research.google.com/assets/colab-badge.svg\" alt=\"Open In Colab\"/></a>"
      ]
    },
    {
      "cell_type": "code",
      "source": [
        "a=[2,5,1,3,6,41,8,91,7,9,5,1,25,1,9,75,1,98,46,84,6,74,12,7,1]\n",
        "count={}\n",
        "def count_duplicate(a):\n",
        "    for i in a:\n",
        "        if i in count:\n",
        "            count[i]+=1\n",
        "        else:\n",
        "            count[i]=1\n",
        "count_duplicate(a)\n",
        "print(count)"
      ],
      "metadata": {
        "id": "mvaz4eYyEPGF"
      },
      "execution_count": null,
      "outputs": []
    }
  ]
}