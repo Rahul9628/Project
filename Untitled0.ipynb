{
  "nbformat": 4,
  "nbformat_minor": 0,
  "metadata": {
    "colab": {
      "provenance": [],
      "authorship_tag": "ABX9TyN25G2+O65yZcuExc+LGhNW",
      "include_colab_link": true
    },
    "kernelspec": {
      "name": "python3",
      "display_name": "Python 3"
    },
    "language_info": {
      "name": "python"
    }
  },
  "cells": [
    {
      "cell_type": "markdown",
      "metadata": {
        "id": "view-in-github",
        "colab_type": "text"
      },
      "source": [
        "<a href=\"https://colab.research.google.com/github/Rahul9628/Project/blob/main/Untitled0.ipynb\" target=\"_parent\"><img src=\"https://colab.research.google.com/assets/colab-badge.svg\" alt=\"Open In Colab\"/></a>"
      ]
    },
    {
      "cell_type": "code",
      "source": [
        "#sorting an array in ascending order using in insertion_sort"
      ],
      "metadata": {
        "id": "4G-9GedEFziZ"
      },
      "execution_count": null,
      "outputs": []
    },
    {
      "cell_type": "code",
      "source": [
        "import array\n",
        "from array import *"
      ],
      "metadata": {
        "id": "BjrVehlTF0M7"
      },
      "execution_count": null,
      "outputs": []
    },
    {
      "cell_type": "code",
      "source": [
        "def insertion_sort(array):\n",
        "    n=len(arr)\n",
        "    for i in range(1,n):\n",
        "        j = i\n",
        "        while arr[j-1]>arr[j]and j>0:\n",
        "             arr[j-1],arr[j]=arr[j],arr[j-1]\n",
        "             j=j-1\n",
        "arr=array('i',[2,6,5,1,3,4,11,45,78,54,62,32,1,31,5,15,14])\n",
        "insertion_sort(arr)\n",
        "print(arr)"
      ],
      "metadata": {
        "id": "AX590Lxn3vGU"
      },
      "execution_count": null,
      "outputs": []
    }
  ]
}