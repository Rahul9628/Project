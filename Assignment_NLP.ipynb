{
 "cells": [
  {
   "cell_type": "code",
   "execution_count": 2,
   "id": "a7c12e42",
   "metadata": {
    "scrolled": true
   },
   "outputs": [
    {
     "name": "stdout",
     "output_type": "stream",
     "text": [
      "nlp stands for natural language processing\n"
     ]
    }
   ],
   "source": [
    "#question number 1\n",
    "a= 'nlp stands for natural language processing'\n",
    "print(f'{a}')"
   ]
  },
  {
   "cell_type": "code",
   "execution_count": 27,
   "id": "06f44b19",
   "metadata": {},
   "outputs": [],
   "source": [
    "#question number 2\n",
    "f=open('contacts.text','a+')"
   ]
  },
  {
   "cell_type": "code",
   "execution_count": 28,
   "id": "e0887453",
   "metadata": {},
   "outputs": [
    {
     "name": "stdout",
     "output_type": "stream",
     "text": [
      "Writing contacts.txt\n"
     ]
    }
   ],
   "source": [
    "%%writefile contacts.txt\n",
    "first_name \n",
    "last_name \n",
    "email\n"
   ]
  },
  {
   "cell_type": "code",
   "execution_count": 37,
   "id": "baf191b5",
   "metadata": {},
   "outputs": [
    {
     "name": "stdout",
     "output_type": "stream",
     "text": [
      "first_name \n",
      "last_name \n",
      "email\n",
      "\n"
     ]
    }
   ],
   "source": [
    "with open('contacts.txt','r') as txt:\n",
    "    fields = txt.read()\n",
    "print(fields)"
   ]
  },
  {
   "cell_type": "code",
   "execution_count": 38,
   "id": "a712b61e",
   "metadata": {},
   "outputs": [],
   "source": [
    "#question number 4"
   ]
  },
  {
   "cell_type": "code",
   "execution_count": 39,
   "id": "bc86d58b",
   "metadata": {},
   "outputs": [],
   "source": [
    "import PyPDF2"
   ]
  },
  {
   "cell_type": "code",
   "execution_count": 41,
   "id": "1dd90474",
   "metadata": {},
   "outputs": [],
   "source": [
    "f=open(r'C:\\Users\\rahulpathak\\Downloads\\Business_Proposal.pdf','rb')\n"
   ]
  },
  {
   "cell_type": "code",
   "execution_count": 43,
   "id": "8be084f0",
   "metadata": {},
   "outputs": [],
   "source": [
    "reader = PyPDF2.PdfReader(f)"
   ]
  },
  {
   "cell_type": "code",
   "execution_count": 44,
   "id": "2b777286",
   "metadata": {},
   "outputs": [
    {
     "data": {
      "text/plain": [
       "'AUTHORS:  \\nAmy Baker, Finance Chair, x345, abaker@ourcompany.com  \\nChris Donaldson, Accounting Dir., x621, cdonaldson@ourcompany.com  \\nErin Freeman, Sr. VP, x879, efreeman@ourcompany.com  '"
      ]
     },
     "execution_count": 44,
     "metadata": {},
     "output_type": "execute_result"
    }
   ],
   "source": [
    "page_two = reader.pages[1]\n",
    "page_two_text = page_two.extract_text()\n",
    "page_two_text"
   ]
  },
  {
   "cell_type": "code",
   "execution_count": 45,
   "id": "7e119a40",
   "metadata": {},
   "outputs": [],
   "source": [
    "#question number 5\n",
    "my_file = open('contacts.txt','a+')"
   ]
  },
  {
   "cell_type": "code",
   "execution_count": 48,
   "id": "535850ce",
   "metadata": {},
   "outputs": [
    {
     "data": {
      "text/plain": [
       "188"
      ]
     },
     "execution_count": 48,
     "metadata": {},
     "output_type": "execute_result"
    }
   ],
   "source": [
    "my_file.write(page_two_text)"
   ]
  },
  {
   "cell_type": "code",
   "execution_count": 49,
   "id": "347caf31",
   "metadata": {},
   "outputs": [
    {
     "data": {
      "text/plain": [
       "'first_name \\nlast_name \\nemail\\npage_two_textAUTHORS:  \\nAmy Baker, Finance Chair, x345, abaker@ourcompany.com  \\nChris Donaldson, Accounting Dir., x621, cdonaldson@ourcompany.com  \\nErin Freeman, Sr. VP, x879, efreeman@ourcompany.com  '"
      ]
     },
     "execution_count": 49,
     "metadata": {},
     "output_type": "execute_result"
    }
   ],
   "source": [
    "my_file.seek(0)\n",
    "my_file.read()"
   ]
  },
  {
   "cell_type": "code",
   "execution_count": 95,
   "id": "2e7a641b",
   "metadata": {},
   "outputs": [
    {
     "data": {
      "text/plain": [
       "'AUTHORS:  \\nAmy Baker, Finance Chair, x345, abaker@ourcompany.com  \\nChris Donaldson, Accounting Dir., x621, cdonaldson@ourcompany.com  \\nErin Freeman, Sr. VP, x879, efreeman@ourcompany.com  '"
      ]
     },
     "execution_count": 95,
     "metadata": {},
     "output_type": "execute_result"
    }
   ],
   "source": [
    "#question number 06\n",
    "page_two_text"
   ]
  },
  {
   "cell_type": "code",
   "execution_count": 96,
   "id": "0608cadd",
   "metadata": {},
   "outputs": [],
   "source": [
    "import re"
   ]
  },
  {
   "cell_type": "code",
   "execution_count": null,
   "id": "7211d21d",
   "metadata": {},
   "outputs": [],
   "source": []
  },
  {
   "cell_type": "code",
   "execution_count": 112,
   "id": "43aefb00",
   "metadata": {},
   "outputs": [
    {
     "data": {
      "text/plain": [
       "['abaker@ourcompany.com',\n",
       " 'cdonaldson@ourcompany.com',\n",
       " 'efreeman@ourcompany.com']"
      ]
     },
     "execution_count": 112,
     "metadata": {},
     "output_type": "execute_result"
    }
   ],
   "source": [
    "re.findall(r\"[\\w]+@[\\w]+.\\w+\",page_two_text)"
   ]
  },
  {
   "cell_type": "code",
   "execution_count": null,
   "id": "8065c875",
   "metadata": {},
   "outputs": [],
   "source": []
  },
  {
   "cell_type": "code",
   "execution_count": null,
   "id": "84eb05ca",
   "metadata": {},
   "outputs": [],
   "source": []
  },
  {
   "cell_type": "code",
   "execution_count": null,
   "id": "dd4aaaea",
   "metadata": {},
   "outputs": [],
   "source": []
  }
 ],
 "metadata": {
  "kernelspec": {
   "display_name": "Python 3 (ipykernel)",
   "language": "python",
   "name": "python3"
  },
  "language_info": {
   "codemirror_mode": {
    "name": "ipython",
    "version": 3
   },
   "file_extension": ".py",
   "mimetype": "text/x-python",
   "name": "python",
   "nbconvert_exporter": "python",
   "pygments_lexer": "ipython3",
   "version": "3.11.5"
  }
 },
 "nbformat": 4,
 "nbformat_minor": 5
}
