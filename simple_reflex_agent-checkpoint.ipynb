{
 "cells": [
  {
   "cell_type": "code",
   "execution_count": 14,
   "id": "7cc73e00",
   "metadata": {},
   "outputs": [],
   "source": [
    "import random"
   ]
  },
  {
   "cell_type": "code",
   "execution_count": 15,
   "id": "b6b2291a",
   "metadata": {},
   "outputs": [],
   "source": [
    "class environment(object):\n",
    "    def __init__(self):\n",
    "        self.locationcondition={'a':'0','b':'0'}\n",
    "        self.locationcondition['a']=random.randint(0,1)\n",
    "        self.locationcondition['b']=random.randint(0,1)"
   ]
  },
  {
   "cell_type": "code",
   "execution_count": 16,
   "id": "8d0d0496",
   "metadata": {},
   "outputs": [
    {
     "ename": "NameError",
     "evalue": "name 'theenvironment' is not defined",
     "output_type": "error",
     "traceback": [
      "\u001b[1;31m---------------------------------------------------------------------------\u001b[0m",
      "\u001b[1;31mNameError\u001b[0m                                 Traceback (most recent call last)",
      "Cell \u001b[1;32mIn[16], line 39\u001b[0m\n\u001b[0;32m     36\u001b[0m         \u001b[38;5;28mprint\u001b[39m(\u001b[38;5;124m\"\u001b[39m\u001b[38;5;124mperformance measurement : \u001b[39m\u001b[38;5;124m\"\u001b[39m \u001b[38;5;241m+\u001b[39m \u001b[38;5;28mstr\u001b[39m(score))\n\u001b[0;32m     38\u001b[0m environment \u001b[38;5;241m=\u001b[39m environment()\n\u001b[1;32m---> 39\u001b[0m thevacuum \u001b[38;5;241m=\u001b[39m SimplereFlexVaccuumAgent(theenvironment)\n",
      "\u001b[1;31mNameError\u001b[0m: name 'theenvironment' is not defined"
     ]
    }
   ],
   "source": [
    "class SimpleeFlexVaccuumAgent(environment):\n",
    "    def __init__(self,environment):\n",
    "        print(environment.locationcondition)\n",
    "        score=0\n",
    "        vacuumlocation = random.randint(0,1)\n",
    "        if vacuumlocation==0:\n",
    "            print(\"vacuum is randomly placed at location a.\")\n",
    "            print(\"location a is dirty.\")if environment.locationcondition['a']==1 else print(\"location a is clean.\")\n",
    "            if environment.locationcondition['a']==1:\n",
    "                environment.locationcondition['a']=0\n",
    "                score+=1\n",
    "                print(\"location a has been cleaned\")\n",
    "            print(\"moving to location b...\")\n",
    "            print(\"location b is dirty.\")if environment.locationcondition['b']==1 else print(\"location b is clean.\")\n",
    "            if environment.locationcondition['b']==1:\n",
    "                environment.locationcondition['b']=0\n",
    "                score+=1\n",
    "                print(\"location b has been cleaned\")\n",
    "            print(\"environment b is clean\")\n",
    "        elif vacuumlocation==1:\n",
    "            print(\"vacuum randomly placed at location b.\")\n",
    "            print(\"location b is dirty.\") if environment.locationcondition['b']==1 else print(\"location b is clean.\")\n",
    "            if environment.locationcondition['b']==1:\n",
    "                environment.locationcondition['b']=0\n",
    "                score+=1\n",
    "                print(\"location b has been cleaned.\")\n",
    "            print(\"moving to location a...\")\n",
    "            print(\"locayion a is dirty\") if environment.locationcondition['a']==1 else print(\"location a is clean\")\n",
    "            if environmrnt.locationcondition['a']==1:\n",
    "                environment.locationcondition['a']=0\n",
    "                score+=1\n",
    "                print(\"location a has been cleaned.\")\n",
    "            print(\"environment is clean.\")\n",
    "            \n",
    "        print(environmrnt.locationcondition)\n",
    "        print(\"performance measurement : \" + str(score))\n",
    "        \n",
    "environment = environment()\n",
    "thevacuum = SimplereFlexVaccuumAgent(theenvironment)"
   ]
  },
  {
   "cell_type": "code",
   "execution_count": null,
   "id": "807174e0",
   "metadata": {},
   "outputs": [],
   "source": []
  }
 ],
 "metadata": {
  "kernelspec": {
   "display_name": "Python 3 (ipykernel)",
   "language": "python",
   "name": "python3"
  },
  "language_info": {
   "codemirror_mode": {
    "name": "ipython",
    "version": 3
   },
   "file_extension": ".py",
   "mimetype": "text/x-python",
   "name": "python",
   "nbconvert_exporter": "python",
   "pygments_lexer": "ipython3",
   "version": "3.11.5"
  }
 },
 "nbformat": 4,
 "nbformat_minor": 5
}
