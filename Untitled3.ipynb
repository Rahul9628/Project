{
  "nbformat": 4,
  "nbformat_minor": 0,
  "metadata": {
    "colab": {
      "provenance": [],
      "authorship_tag": "ABX9TyOaFIoPupUzpQsRBh7OMz2K",
      "include_colab_link": true
    },
    "kernelspec": {
      "name": "python3",
      "display_name": "Python 3"
    },
    "language_info": {
      "name": "python"
    }
  },
  "cells": [
    {
      "cell_type": "markdown",
      "metadata": {
        "id": "view-in-github",
        "colab_type": "text"
      },
      "source": [
        "<a href=\"https://colab.research.google.com/github/Rahul9628/Project/blob/main/Untitled3.ipynb\" target=\"_parent\"><img src=\"https://colab.research.google.com/assets/colab-badge.svg\" alt=\"Open In Colab\"/></a>"
      ]
    },
    {
      "cell_type": "code",
      "execution_count": null,
      "metadata": {
        "id": "CwlN14qEt63X"
      },
      "outputs": [],
      "source": [
        "salary=float(input(\"enter basic salary\"))\n",
        "hra=(salary*20)/100\n",
        "da=(salary*50)/100\n",
        "pf=(salary*11)/100\n",
        "if salary>10000:\n",
        "    allowance=1700\n",
        "elif salary>5000:\n",
        "    allowance=1500\n",
        "elif salary>2500:\n",
        "    allowance=1300\n",
        "gross_salary=salary+hra+da+allowance-pf\n",
        "print(gross_salary)"
      ]
    }
  ]
}