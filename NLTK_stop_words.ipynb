{
 "cells": [
  {
   "cell_type": "code",
   "execution_count": 2,
   "id": "f5877eec",
   "metadata": {},
   "outputs": [],
   "source": [
    "import spacy\n",
    "nlp=spacy.load(\"en_core_web_sm\")"
   ]
  },
  {
   "cell_type": "code",
   "execution_count": 3,
   "id": "b0fb0cd6",
   "metadata": {},
   "outputs": [
    {
     "name": "stdout",
     "output_type": "stream",
     "text": [
      "{'anywhere', 'seems', \"'re\", 'although', 'yourselves', 'always', '’s', 'formerly', 'which', 'until', '’re', 'the', 'sometimes', 'herein', 'forty', 'meanwhile', 'from', '’m', 'them', 'go', 'she', 'their', 'nevertheless', 'hereby', 'only', 'along', 'our', 'sixty', 'eleven', 'made', 'ever', 'above', 'quite', 'another', 'whereas', 'almost', 'what', 'may', 'within', 'whereafter', 'give', 'became', 'am', 'now', 'being', 'none', 'n‘t', 'they', 'when', 'we', 'whereupon', 'was', \"n't\", 'mostly', \"'d\", 'two', 'of', 'myself', 'all', 'still', 'are', 'eight', 'just', '’ve', 'ca', 'too', 'into', 'except', 'neither', 'yet', 'one', \"'s\", 'six', '‘re', 'your', 'a', 'him', 'front', 'together', 'everyone', 'have', 'twenty', 'seemed', 'less', 'is', 'thereby', 'in', 'very', 'put', 'much', 'see', 'behind', 'nor', 'this', 'sometime', 'himself', 'latter', 'last', 'must', 'any', 'wherever', 'by', 'did', 'nine', 'upon', 'empty', 'will', 'n’t', 'us', 'up', 'hereupon', 'below', 'elsewhere', '’ll', 'either', 'but', 'somehow', 'nobody', 'via', 'become', 'at', 'been', 'ours', 'most', 'were', 'among', 'as', 'be', 'often', 'afterwards', 'over', 'otherwise', 'about', 'part', '’d', 'each', 'others', 'with', 'well', 'beside', \"'ve\", '‘s', 'top', 'who', 'seeming', 'do', 'those', 'latterly', 'never', 'hundred', 'between', 'whenever', 'per', 'should', 'thereupon', 'least', 'bottom', 'towards', 'ten', 'could', 'has', 'some', 'hers', 'done', 'twelve', 'nowhere', 'off', 'serious', '‘m', 'there', 'whither', 'namely', 'hereafter', 'throughout', 'had', 'keep', \"'ll\", '‘d', 'or', 'unless', 'because', 'every', 'becomes', 'amongst', 'down', 'therefore', \"'m\", 'please', 'beforehand', 'call', 'next', 'such', 'ourselves', 'his', 'really', 'more', 'thence', 'mine', 'amount', 'then', 'perhaps', 'around', 'four', 'if', 'also', '‘ll', 'out', 'these', 'he', 'full', 'alone', 'get', 'whence', 'everything', 'something', 'former', 'yourself', 'noone', 'through', 'whose', 'here', 'besides', 'while', 'can', 'therein', 'where', 'for', 'beyond', 'many', 'name', 'cannot', 'me', 'everywhere', 'make', 'whether', 'due', 'without', 'might', 'themselves', '‘ve', 'you', 'thereafter', 'regarding', 'back', 'it', 'somewhere', 'moreover', 'anyhow', 'however', 'used', 'third', 'again', 'whom', 'its', 'nothing', 'same', 'during', 'further', 'few', 'using', 'becoming', 'yours', 'thus', 'show', 'does', 'onto', 'that', 'so', 'on', 'first', 'move', 'enough', 'three', 'toward', 'whole', 'though', 'than', 'against', 'several', 'why', 'fifteen', 'doing', 'own', 'would', 'itself', 'else', 'take', 'say', 'anyway', 'after', 'once', 'both', 'someone', 'anything', 'even', 'not', 'side', 're', 'and', 'my', 'whereby', 'across', 'since', 'thru', 'herself', 'fifty', 'anyone', 'whatever', 'wherein', 'her', 'how', 'other', 'no', 'five', 'various', 'already', 'whoever', 'rather', 'under', 'an', 'to', 'i', 'indeed', 'before', 'hence', 'seem'}\n"
     ]
    }
   ],
   "source": [
    "print(nlp.Defaults.stop_words)"
   ]
  },
  {
   "cell_type": "code",
   "execution_count": 4,
   "id": "d99e7130",
   "metadata": {},
   "outputs": [
    {
     "name": "stdout",
     "output_type": "stream",
     "text": [
      "326\n"
     ]
    }
   ],
   "source": [
    "print(len(nlp.Defaults.stop_words))"
   ]
  },
  {
   "cell_type": "code",
   "execution_count": 6,
   "id": "5c57e855",
   "metadata": {},
   "outputs": [
    {
     "data": {
      "text/plain": [
       "True"
      ]
     },
     "execution_count": 6,
     "metadata": {},
     "output_type": "execute_result"
    }
   ],
   "source": [
    "#to check present in stop woord\n",
    "nlp.vocab['myself'].is_stop"
   ]
  },
  {
   "cell_type": "code",
   "execution_count": 7,
   "id": "bf9155d7",
   "metadata": {},
   "outputs": [
    {
     "data": {
      "text/plain": [
       "False"
      ]
     },
     "execution_count": 7,
     "metadata": {},
     "output_type": "execute_result"
    }
   ],
   "source": [
    "nlp.vocab['mystery'].is_stop"
   ]
  },
  {
   "cell_type": "code",
   "execution_count": 18,
   "id": "b2d42e2d",
   "metadata": {},
   "outputs": [],
   "source": [
    "#to add a stop word\n",
    "#to add any stopword always in lowercase"
   ]
  },
  {
   "cell_type": "code",
   "execution_count": 9,
   "id": "abc16015",
   "metadata": {},
   "outputs": [
    {
     "data": {
      "text/plain": [
       "False"
      ]
     },
     "execution_count": 9,
     "metadata": {},
     "output_type": "execute_result"
    }
   ],
   "source": [
    "nlp.vocab['btw'].is_stop"
   ]
  },
  {
   "cell_type": "code",
   "execution_count": 13,
   "id": "82ead496",
   "metadata": {},
   "outputs": [],
   "source": [
    "nlp.vocab['btw'].is_stop=True"
   ]
  },
  {
   "cell_type": "code",
   "execution_count": 14,
   "id": "905e7912",
   "metadata": {},
   "outputs": [],
   "source": [
    "nlp.Defaults.stop_words.add('btw')"
   ]
  },
  {
   "cell_type": "code",
   "execution_count": 15,
   "id": "fcc97600",
   "metadata": {},
   "outputs": [
    {
     "name": "stdout",
     "output_type": "stream",
     "text": [
      "327\n"
     ]
    }
   ],
   "source": [
    "print(len(nlp.Defaults.stop_words))"
   ]
  },
  {
   "cell_type": "code",
   "execution_count": 16,
   "id": "11f68321",
   "metadata": {},
   "outputs": [
    {
     "data": {
      "text/plain": [
       "True"
      ]
     },
     "execution_count": 16,
     "metadata": {},
     "output_type": "execute_result"
    }
   ],
   "source": [
    "nlp.vocab['btw'].is_stop"
   ]
  },
  {
   "cell_type": "code",
   "execution_count": 17,
   "id": "8113fdb3",
   "metadata": {},
   "outputs": [],
   "source": [
    "# to remove a stop word"
   ]
  },
  {
   "cell_type": "code",
   "execution_count": 19,
   "id": "b24694d8",
   "metadata": {},
   "outputs": [],
   "source": [
    "nlp.Defaults.stop_words.remove('btw')"
   ]
  },
  {
   "cell_type": "code",
   "execution_count": 24,
   "id": "9325e6ba",
   "metadata": {},
   "outputs": [],
   "source": [
    "nlp.vocab['btw'].is_stop=False"
   ]
  },
  {
   "cell_type": "code",
   "execution_count": 25,
   "id": "d89b24f9",
   "metadata": {},
   "outputs": [
    {
     "name": "stdout",
     "output_type": "stream",
     "text": [
      "326\n"
     ]
    }
   ],
   "source": [
    "print(len(nlp.Defaults.stop_words))"
   ]
  },
  {
   "cell_type": "code",
   "execution_count": 26,
   "id": "c4fd3744",
   "metadata": {},
   "outputs": [
    {
     "data": {
      "text/plain": [
       "False"
      ]
     },
     "execution_count": 26,
     "metadata": {},
     "output_type": "execute_result"
    }
   ],
   "source": [
    "nlp.vocab['btw'].is_stop"
   ]
  },
  {
   "cell_type": "code",
   "execution_count": null,
   "id": "53851ba5",
   "metadata": {},
   "outputs": [],
   "source": []
  }
 ],
 "metadata": {
  "kernelspec": {
   "display_name": "Python 3 (ipykernel)",
   "language": "python",
   "name": "python3"
  },
  "language_info": {
   "codemirror_mode": {
    "name": "ipython",
    "version": 3
   },
   "file_extension": ".py",
   "mimetype": "text/x-python",
   "name": "python",
   "nbconvert_exporter": "python",
   "pygments_lexer": "ipython3",
   "version": "3.11.5"
  }
 },
 "nbformat": 4,
 "nbformat_minor": 5
}
