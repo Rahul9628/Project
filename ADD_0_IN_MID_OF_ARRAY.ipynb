{
  "nbformat": 4,
  "nbformat_minor": 0,
  "metadata": {
    "colab": {
      "provenance": [],
      "authorship_tag": "ABX9TyOClewKCd5zx/0D3tnxXyq1",
      "include_colab_link": true
    },
    "kernelspec": {
      "name": "python3",
      "display_name": "Python 3"
    },
    "language_info": {
      "name": "python"
    }
  },
  "cells": [
    {
      "cell_type": "markdown",
      "metadata": {
        "id": "view-in-github",
        "colab_type": "text"
      },
      "source": [
        "<a href=\"https://colab.research.google.com/github/Rahul9628/Project/blob/main/Untitled4.ipynb\" target=\"_parent\"><img src=\"https://colab.research.google.com/assets/colab-badge.svg\" alt=\"Open In Colab\"/></a>"
      ]
    },
    {
      "cell_type": "code",
      "execution_count": null,
      "metadata": {
        "id": "6JOF1naSuoHG"
      },
      "outputs": [],
      "source": [
        "a= array(\"i\",[1,5,6,4,1,54,19,45,12,32,54,98,48,45])\n",
        "l=len(a)\n",
        "mid=l//2\n",
        "half1=[]\n",
        "half2=[]\n",
        "new_element=[0]\n",
        "join_array=[]\n",
        "for i in range(0,mid):\n",
        "    half1.append(a[i])\n",
        "for j in range(mid,l):\n",
        "    half2.append(a[j])\n",
        "join_array=half1+new_element+half2\n",
        "print(join_array)"
      ]
    }
  ]
}
