{
 "cells": [
  {
   "cell_type": "code",
   "execution_count": 22,
   "id": "1ce4e0b7",
   "metadata": {},
   "outputs": [],
   "source": [
    "#Porter Stemmer"
   ]
  },
  {
   "cell_type": "code",
   "execution_count": 23,
   "id": "db8b8f44",
   "metadata": {},
   "outputs": [],
   "source": [
    "import nltk\n",
    "from nltk.stem.snowball import SnowballStemmer"
   ]
  },
  {
   "cell_type": "code",
   "execution_count": 24,
   "id": "eda1cd52",
   "metadata": {},
   "outputs": [],
   "source": [
    "from nltk.stem.porter import PorterStemmer"
   ]
  },
  {
   "cell_type": "code",
   "execution_count": 25,
   "id": "d51f71a4",
   "metadata": {},
   "outputs": [],
   "source": [
    "p_stemmer=PorterStemmer()"
   ]
  },
  {
   "cell_type": "code",
   "execution_count": 26,
   "id": "02ce4edd",
   "metadata": {},
   "outputs": [],
   "source": [
    "words=[\"run\",\"runner\",\"running\",\"ran\",\"runs\",\"easily\",\"fairly\"]"
   ]
  },
  {
   "cell_type": "code",
   "execution_count": 27,
   "id": "f9a94308",
   "metadata": {},
   "outputs": [
    {
     "name": "stdout",
     "output_type": "stream",
     "text": [
      "run --> run\n",
      "runner --> runner\n",
      "running --> run\n",
      "ran --> ran\n",
      "runs --> run\n",
      "easily --> easili\n",
      "fairly --> fairli\n"
     ]
    }
   ],
   "source": [
    "for word in words:\n",
    "    print(word+\" --> \"+p_stemmer.stem(word))"
   ]
  },
  {
   "cell_type": "code",
   "execution_count": 28,
   "id": "0d8014e0",
   "metadata": {},
   "outputs": [],
   "source": [
    "#SnowBall Stemmer"
   ]
  },
  {
   "cell_type": "code",
   "execution_count": 29,
   "id": "23cd22ca",
   "metadata": {},
   "outputs": [],
   "source": [
    "s_stemmer=SnowballStemmer(language=\"english\")"
   ]
  },
  {
   "cell_type": "code",
   "execution_count": null,
   "id": "83044631",
   "metadata": {},
   "outputs": [],
   "source": []
  },
  {
   "cell_type": "code",
   "execution_count": null,
   "id": "60af8d44",
   "metadata": {},
   "outputs": [],
   "source": []
  },
  {
   "cell_type": "code",
   "execution_count": null,
   "id": "88970e12",
   "metadata": {},
   "outputs": [],
   "source": []
  },
  {
   "cell_type": "code",
   "execution_count": null,
   "id": "cdef708d",
   "metadata": {},
   "outputs": [],
   "source": []
  },
  {
   "cell_type": "code",
   "execution_count": null,
   "id": "27a7b3e7",
   "metadata": {},
   "outputs": [],
   "source": []
  },
  {
   "cell_type": "code",
   "execution_count": null,
   "id": "7c56cd7d",
   "metadata": {},
   "outputs": [],
   "source": []
  },
  {
   "cell_type": "code",
   "execution_count": 21,
   "id": "3e659676",
   "metadata": {},
   "outputs": [],
   "source": [
    "import nltk\n",
    "import spacy\n",
    "from nltk.stem.porter import PorterStemmer"
   ]
  },
  {
   "cell_type": "code",
   "execution_count": 2,
   "id": "3d6bcdad",
   "metadata": {},
   "outputs": [],
   "source": [
    "nlp=spacy.load(\"en_core_web_sm\")"
   ]
  },
  {
   "cell_type": "code",
   "execution_count": 3,
   "id": "11edbaf9",
   "metadata": {},
   "outputs": [
    {
     "name": "stdout",
     "output_type": "stream",
     "text": [
      "i-->i\n",
      "am-->am\n",
      "meeting-->meet\n",
      "him-->him\n",
      "tomorrow-->tomorrow\n",
      "at-->at\n",
      "the-->the\n",
      "meeting-->meet\n"
     ]
    }
   ],
   "source": [
    "p_stemmer=PorterStemmer()\n",
    "phrase = 'i am meeting him tomorrow at the meeting'\n",
    "for word in phrase.split():\n",
    "    print(word+'-->'+p_stemmer.stem(word))\n"
   ]
  },
  {
   "cell_type": "code",
   "execution_count": 4,
   "id": "65be0912",
   "metadata": {},
   "outputs": [
    {
     "name": "stdout",
     "output_type": "stream",
     "text": [
      "i PRON\n",
      "am AUX\n",
      "meeting VERB\n",
      "him PRON\n",
      "tomorrow NOUN\n",
      "at ADP\n",
      "the DET\n",
      "meeting NOUN\n"
     ]
    }
   ],
   "source": [
    "phrase = nlp('i am meeting him tomorrow at the meeting')\n",
    "for token in phrase:\n",
    "    print(token.text,token.pos_,)"
   ]
  },
  {
   "cell_type": "code",
   "execution_count": 5,
   "id": "fb741208",
   "metadata": {},
   "outputs": [
    {
     "name": "stdout",
     "output_type": "stream",
     "text": [
      "I \t PRON \t 4690420944186131903 \t I\n",
      "am \t AUX \t 10382539506755952630 \t be\n",
      "a \t DET \t 11901859001352538922 \t a\n",
      "runner \t NOUN \t 12640964157389618806 \t runner\n",
      "running \t VERB \t 12767647472892411841 \t run\n",
      "in \t ADP \t 3002984154512732771 \t in\n",
      "a \t DET \t 11901859001352538922 \t a\n",
      "race \t NOUN \t 8048469955494714898 \t race\n",
      "because \t SCONJ \t 16950148841647037698 \t because\n",
      "I \t PRON \t 4690420944186131903 \t I\n",
      "love \t VERB \t 3702023516439754181 \t love\n",
      "to \t PART \t 3791531372978436496 \t to\n",
      "run \t VERB \t 12767647472892411841 \t run\n",
      "since \t SCONJ \t 10066841407251338481 \t since\n",
      "I \t PRON \t 4690420944186131903 \t I\n",
      "ran \t VERB \t 12767647472892411841 \t run\n",
      "today \t NOUN \t 11042482332948150395 \t today\n"
     ]
    }
   ],
   "source": [
    "doc1=nlp(\"I am a runner running in a race because I love to run since I ran today\")\n",
    "for token in doc1:\n",
    "    print(token.text,'\\t',token.pos_,'\\t',token.lemma,'\\t',token.lemma_)"
   ]
  },
  {
   "cell_type": "code",
   "execution_count": 15,
   "id": "dc8b9c52",
   "metadata": {},
   "outputs": [],
   "source": [
    "def show_lemmas(text):\n",
    "    for token in text:\n",
    "        print(f'{token.text:{12}}{token.pos_:{6}}{token.lemma:<{22}}{token.lemma_}')"
   ]
  },
  {
   "cell_type": "code",
   "execution_count": 16,
   "id": "a4e9f7ad",
   "metadata": {},
   "outputs": [
    {
     "name": "stdout",
     "output_type": "stream",
     "text": [
      "I           PRON  4690420944186131903   I\n",
      "saw         VERB  11925638236994514241  see\n",
      "eighteen    NUM   9609336664675087640   eighteen\n",
      "mice        NOUN  1384165645700560590   mouse\n",
      "today       NOUN  11042482332948150395  today\n",
      "!           PUNCT 17494803046312582752  !\n"
     ]
    }
   ],
   "source": [
    "doc2=nlp('I saw eighteen mice today!')\n",
    "show_lemmas(doc2)"
   ]
  },
  {
   "cell_type": "code",
   "execution_count": 17,
   "id": "b336ac4d",
   "metadata": {},
   "outputs": [],
   "source": [
    "doc3=nlp('i am meeting him tomorrow at the meeting')"
   ]
  },
  {
   "cell_type": "code",
   "execution_count": 18,
   "id": "18e4388c",
   "metadata": {},
   "outputs": [
    {
     "name": "stdout",
     "output_type": "stream",
     "text": [
      "i           PRON  4690420944186131903   I\n",
      "am          AUX   10382539506755952630  be\n",
      "meeting     VERB  6880656908171229526   meet\n",
      "him         PRON  1655312771067108281   he\n",
      "tomorrow    NOUN  3573583789758258062   tomorrow\n",
      "at          ADP   11667289587015813222  at\n",
      "the         DET   7425985699627899538   the\n",
      "meeting     NOUN  14798207169164081740  meeting\n"
     ]
    }
   ],
   "source": [
    "show_lemmas(doc3)"
   ]
  },
  {
   "cell_type": "code",
   "execution_count": 20,
   "id": "776f0163",
   "metadata": {},
   "outputs": [
    {
     "name": "stdout",
     "output_type": "stream",
     "text": [
      "That        PRON  4380130941430378203   that\n",
      "'s          AUX   10382539506755952630  be\n",
      "an          DET   15099054000809333061  an\n",
      "enormous    ADJ   17917224542039855524  enormous\n",
      "automobile  NOUN  7211811266693931283   automobile\n"
     ]
    }
   ],
   "source": [
    "doc4=nlp(\"That's an enormous automobile\")\n",
    "show_lemmas(doc4)"
   ]
  },
  {
   "cell_type": "code",
   "execution_count": null,
   "id": "d9b2c575",
   "metadata": {},
   "outputs": [],
   "source": []
  }
 ],
 "metadata": {
  "kernelspec": {
   "display_name": "Python 3 (ipykernel)",
   "language": "python",
   "name": "python3"
  },
  "language_info": {
   "codemirror_mode": {
    "name": "ipython",
    "version": 3
   },
   "file_extension": ".py",
   "mimetype": "text/x-python",
   "name": "python",
   "nbconvert_exporter": "python",
   "pygments_lexer": "ipython3",
   "version": "3.11.5"
  }
 },
 "nbformat": 4,
 "nbformat_minor": 5
}
