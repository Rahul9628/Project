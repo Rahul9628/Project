{
 "cells": [
  {
   "cell_type": "code",
   "execution_count": 1,
   "id": "bea56df3",
   "metadata": {},
   "outputs": [
    {
     "name": "stdout",
     "output_type": "stream",
     "text": [
      "my name is rahul\n"
     ]
    }
   ],
   "source": [
    "name = 'rahul'\n",
    "print(f'my name is {name}')"
   ]
  },
  {
   "cell_type": "code",
   "execution_count": 2,
   "id": "4366e33b",
   "metadata": {},
   "outputs": [
    {
     "name": "stdout",
     "output_type": "stream",
     "text": [
      "my name is 'rahul'\n"
     ]
    }
   ],
   "source": [
    "name = 'rahul'\n",
    "print(f'my name is {name!r}')"
   ]
  },
  {
   "cell_type": "code",
   "execution_count": 9,
   "id": "5838453c",
   "metadata": {},
   "outputs": [
    {
     "name": "stdout",
     "output_type": "stream",
     "text": [
      "address : 123 main street\n"
     ]
    }
   ],
   "source": [
    "d={'a':123,'b':456}\n",
    "print(f'address : {d[\"a\"]} main street')"
   ]
  },
  {
   "cell_type": "code",
   "execution_count": 12,
   "id": "9203dd22",
   "metadata": {},
   "outputs": [],
   "source": [
    "author=['gaurav','vibhanshu','rahul']\n",
    "topic=['abc','def','ghi']\n",
    "pages=[67,1029,428]"
   ]
  },
  {
   "cell_type": "code",
   "execution_count": 15,
   "id": "f2b05efe",
   "metadata": {},
   "outputs": [],
   "source": [
    "import pandas as pd"
   ]
  },
  {
   "cell_type": "code",
   "execution_count": 16,
   "id": "ceb6bb45",
   "metadata": {},
   "outputs": [],
   "source": [
    "library=[('author','topic','pages'),('a','phy',67),('b','chem',1029),('c','maths',428)]"
   ]
  },
  {
   "cell_type": "code",
   "execution_count": 41,
   "id": "1529a154",
   "metadata": {},
   "outputs": [
    {
     "name": "stdout",
     "output_type": "stream",
     "text": [
      "author     topic      pages\n",
      "a          phy        ...67\n",
      "b          chem       .1029\n",
      "c          maths      ..428\n"
     ]
    }
   ],
   "source": [
    "for i in library:\n",
    "    print(f'{i[0]:{10}} {i[1]:{10}} {i[2]:.>{5}}')\n",
    "    "
   ]
  },
  {
   "cell_type": "code",
   "execution_count": 1,
   "id": "c8373ebc",
   "metadata": {},
   "outputs": [],
   "source": [
    "#file handling in python"
   ]
  },
  {
   "cell_type": "code",
   "execution_count": 3,
   "id": "dff11145",
   "metadata": {},
   "outputs": [
    {
     "name": "stdout",
     "output_type": "stream",
     "text": [
      "Writing test.txt\n"
     ]
    }
   ],
   "source": [
    "%%writefile test.txt\n",
    "hi1\n",
    "hi2"
   ]
  },
  {
   "cell_type": "code",
   "execution_count": 4,
   "id": "cdc56061",
   "metadata": {},
   "outputs": [],
   "source": [
    "my_file = open('test.txt')"
   ]
  },
  {
   "cell_type": "code",
   "execution_count": 5,
   "id": "ee0af5a8",
   "metadata": {},
   "outputs": [
    {
     "data": {
      "text/plain": [
       "<_io.TextIOWrapper name='test.txt' mode='r' encoding='cp1252'>"
      ]
     },
     "execution_count": 5,
     "metadata": {},
     "output_type": "execute_result"
    }
   ],
   "source": [
    "my_file"
   ]
  },
  {
   "cell_type": "code",
   "execution_count": 8,
   "id": "c737c2a5",
   "metadata": {},
   "outputs": [
    {
     "data": {
      "text/plain": [
       "''"
      ]
     },
     "execution_count": 8,
     "metadata": {},
     "output_type": "execute_result"
    }
   ],
   "source": [
    "my_file.read()"
   ]
  },
  {
   "cell_type": "code",
   "execution_count": 9,
   "id": "62945775",
   "metadata": {},
   "outputs": [
    {
     "data": {
      "text/plain": [
       "0"
      ]
     },
     "execution_count": 9,
     "metadata": {},
     "output_type": "execute_result"
    }
   ],
   "source": [
    "my_file.seek(0)"
   ]
  },
  {
   "cell_type": "code",
   "execution_count": 10,
   "id": "858310b5",
   "metadata": {},
   "outputs": [
    {
     "data": {
      "text/plain": [
       "'hi1\\nhi2\\n'"
      ]
     },
     "execution_count": 10,
     "metadata": {},
     "output_type": "execute_result"
    }
   ],
   "source": [
    "my_file.read()"
   ]
  },
  {
   "cell_type": "code",
   "execution_count": 12,
   "id": "03c5ed63",
   "metadata": {},
   "outputs": [
    {
     "data": {
      "text/plain": [
       "['hi1\\n', 'hi2\\n']"
      ]
     },
     "execution_count": 12,
     "metadata": {},
     "output_type": "execute_result"
    }
   ],
   "source": [
    "my_file.seek(0)\n",
    "my_file.readlines()"
   ]
  },
  {
   "cell_type": "code",
   "execution_count": 13,
   "id": "d648ff3c",
   "metadata": {},
   "outputs": [],
   "source": [
    "my_file.close()"
   ]
  },
  {
   "cell_type": "code",
   "execution_count": 22,
   "id": "97470150",
   "metadata": {},
   "outputs": [
    {
     "data": {
      "text/plain": [
       "2"
      ]
     },
     "execution_count": 22,
     "metadata": {},
     "output_type": "execute_result"
    }
   ],
   "source": [
    "my_file = open('test.txt','w+')\n",
    "my_file.write('hi')"
   ]
  },
  {
   "cell_type": "code",
   "execution_count": 25,
   "id": "fd608813",
   "metadata": {},
   "outputs": [
    {
     "data": {
      "text/plain": [
       "'hi'"
      ]
     },
     "execution_count": 25,
     "metadata": {},
     "output_type": "execute_result"
    }
   ],
   "source": [
    "my_file.seek(0)\n",
    "my_file.read()"
   ]
  },
  {
   "cell_type": "code",
   "execution_count": 26,
   "id": "7f6f1a29",
   "metadata": {},
   "outputs": [
    {
     "data": {
      "text/plain": [
       "4"
      ]
     },
     "execution_count": 26,
     "metadata": {},
     "output_type": "execute_result"
    }
   ],
   "source": [
    "my_file = open('test.txt','a+')\n",
    "my_file.write('\\nhi4')"
   ]
  },
  {
   "cell_type": "code",
   "execution_count": 27,
   "id": "0e580c81",
   "metadata": {},
   "outputs": [
    {
     "name": "stdout",
     "output_type": "stream",
     "text": [
      "hi\n",
      "hi4\n"
     ]
    }
   ],
   "source": [
    "my_file.seek(0)\n",
    "print(my_file.read())"
   ]
  },
  {
   "cell_type": "code",
   "execution_count": 28,
   "id": "9ed34c3a",
   "metadata": {},
   "outputs": [],
   "source": [
    "my_file.close()"
   ]
  },
  {
   "cell_type": "code",
   "execution_count": 29,
   "id": "1d452527",
   "metadata": {},
   "outputs": [
    {
     "name": "stdout",
     "output_type": "stream",
     "text": [
      "Appending to test.txt\n"
     ]
    }
   ],
   "source": [
    "%%writefile -a test.txt\n",
    "hi5\n",
    "hi6"
   ]
  },
  {
   "cell_type": "code",
   "execution_count": 31,
   "id": "fdc31a4e",
   "metadata": {},
   "outputs": [],
   "source": [
    "my_file = open('test.txt')"
   ]
  },
  {
   "cell_type": "code",
   "execution_count": 32,
   "id": "21d1aa76",
   "metadata": {},
   "outputs": [
    {
     "data": {
      "text/plain": [
       "'hi\\nhi4hi5\\nhi6\\n'"
      ]
     },
     "execution_count": 32,
     "metadata": {},
     "output_type": "execute_result"
    }
   ],
   "source": [
    "my_file.seek(0)\n",
    "my_file.read()"
   ]
  },
  {
   "cell_type": "code",
   "execution_count": 33,
   "id": "e0ea5956",
   "metadata": {},
   "outputs": [],
   "source": [
    "my_file.close()"
   ]
  },
  {
   "cell_type": "code",
   "execution_count": 41,
   "id": "610b671c",
   "metadata": {},
   "outputs": [
    {
     "name": "stdout",
     "output_type": "stream",
     "text": [
      "['hi\\n', 'hi4hi5\\n', 'hi6\\n']\n"
     ]
    }
   ],
   "source": [
    "with open('test.txt','r') as txt:\n",
    "    first_line = txt.readlines()\n",
    "print(first_line)"
   ]
  },
  {
   "cell_type": "code",
   "execution_count": 44,
   "id": "060794e8",
   "metadata": {},
   "outputs": [
    {
     "name": "stdout",
     "output_type": "stream",
     "text": [
      "hi\n",
      "hi4hi5\n",
      "hi6\n"
     ]
    }
   ],
   "source": [
    "with open('test.txt','r') as txt:\n",
    "    for line in txt:\n",
    "        print(line,end='')"
   ]
  },
  {
   "cell_type": "code",
   "execution_count": 45,
   "id": "ba24ce3e",
   "metadata": {},
   "outputs": [
    {
     "name": "stdout",
     "output_type": "stream",
     "text": [
      "Defaulting to user installation because normal site-packages is not writeable\n",
      "Collecting PyPDF2\n",
      "  Obtaining dependency information for PyPDF2 from https://files.pythonhosted.org/packages/8e/5e/c86a5643653825d3c913719e788e41386bee415c2b87b4f955432f2de6b2/pypdf2-3.0.1-py3-none-any.whl.metadata\n",
      "  Downloading pypdf2-3.0.1-py3-none-any.whl.metadata (6.8 kB)\n",
      "Downloading pypdf2-3.0.1-py3-none-any.whl (232 kB)\n",
      "   ---------------------------------------- 0.0/232.6 kB ? eta -:--:--\n",
      "   ---------------------------------------- 0.0/232.6 kB ? eta -:--:--\n",
      "   - -------------------------------------- 10.2/232.6 kB ? eta -:--:--\n",
      "   ----- --------------------------------- 30.7/232.6 kB 435.7 kB/s eta 0:00:01\n",
      "   ----- --------------------------------- 30.7/232.6 kB 435.7 kB/s eta 0:00:01\n",
      "   ----- --------------------------------- 30.7/232.6 kB 435.7 kB/s eta 0:00:01\n",
      "   ---------- ---------------------------- 61.4/232.6 kB 233.8 kB/s eta 0:00:01\n",
      "   ------------ -------------------------- 71.7/232.6 kB 245.8 kB/s eta 0:00:01\n",
      "   ------------------ ------------------- 112.6/232.6 kB 328.2 kB/s eta 0:00:01\n",
      "   ------------------ ------------------- 112.6/232.6 kB 328.2 kB/s eta 0:00:01\n",
      "   ------------------ ------------------- 112.6/232.6 kB 328.2 kB/s eta 0:00:01\n",
      "   -------------------- ----------------- 122.9/232.6 kB 266.9 kB/s eta 0:00:01\n",
      "   ------------------------- ------------ 153.6/232.6 kB 305.7 kB/s eta 0:00:01\n",
      "   -------------------------------------- 232.6/232.6 kB 406.5 kB/s eta 0:00:00\n",
      "Installing collected packages: PyPDF2\n",
      "Successfully installed PyPDF2-3.0.1\n",
      "Note: you may need to restart the kernel to use updated packages.\n"
     ]
    },
    {
     "name": "stderr",
     "output_type": "stream",
     "text": [
      "DEPRECATION: Loading egg at c:\\programdata\\anaconda3\\lib\\site-packages\\vboxapi-1.0-py3.11.egg is deprecated. pip 23.3 will enforce this behaviour change. A possible replacement is to use pip for package installation..\n"
     ]
    }
   ],
   "source": [
    "pip install PyPDF2"
   ]
  },
  {
   "cell_type": "code",
   "execution_count": 25,
   "id": "d4a1b7b2",
   "metadata": {},
   "outputs": [],
   "source": [
    "import PyPDF2"
   ]
  },
  {
   "cell_type": "code",
   "execution_count": 16,
   "id": "e138230c",
   "metadata": {},
   "outputs": [],
   "source": [
    "pdf_path=r'C:\\Users\\rahulpathak\\Downloads\\RahulCV.pdf'"
   ]
  },
  {
   "cell_type": "code",
   "execution_count": 17,
   "id": "56863a17",
   "metadata": {},
   "outputs": [],
   "source": [
    "f=open(pdf_path,'rb')\n"
   ]
  },
  {
   "cell_type": "code",
   "execution_count": 18,
   "id": "c1c0c4b5",
   "metadata": {},
   "outputs": [
    {
     "data": {
      "text/plain": [
       "2"
      ]
     },
     "execution_count": 18,
     "metadata": {},
     "output_type": "execute_result"
    }
   ],
   "source": [
    "reader = PyPDF2.PdfReader(f)\n",
    "len(reader.pages)"
   ]
  },
  {
   "cell_type": "code",
   "execution_count": 20,
   "id": "476ed8c1",
   "metadata": {},
   "outputs": [
    {
     "data": {
      "text/plain": [
       "' \\nRahul Pathak  \\nStudent  \\n   \\n(+91) 79999 -26080  rahulpathak9628@gmail.com  http://www.linkedin.co\\nm/in/rahul -pathak -\\n83b96524a  \\nSkills   \\nEducational Qualification  \\nPython Programming  \\nMySQL  \\nMS-Excel   \\nM.Sc. (Data Science)  \\nAsian Academy of Film and Television  \\n2023 – 2025  \\n \\nB.Sc. (Mathematics)  \\nAPS University  \\nYear of Completion - 2023  \\n \\nIntermediate  \\nMP Board  \\nYear of Completion - 2019  \\n Strengths  \\nPositive approach towards \\ntask.  \\nI am highly self -motivated to \\nwork.  \\nComputer knowledge.  \\nEnthusiasm to learn.  \\nHonest.  \\n'"
      ]
     },
     "execution_count": 20,
     "metadata": {},
     "output_type": "execute_result"
    }
   ],
   "source": [
    "page_one = reader.pages[0]\n",
    "page_one_text = page_one.extract_text()\n",
    "page_one_text"
   ]
  },
  {
   "cell_type": "code",
   "execution_count": 21,
   "id": "b16445f8",
   "metadata": {},
   "outputs": [],
   "source": [
    "f.close()"
   ]
  },
  {
   "cell_type": "code",
   "execution_count": 29,
   "id": "4d17ba86",
   "metadata": {},
   "outputs": [],
   "source": [
    "f= open(pdf_path,'rb')"
   ]
  },
  {
   "cell_type": "code",
   "execution_count": 30,
   "id": "9becd5c9",
   "metadata": {},
   "outputs": [],
   "source": [
    "pdf_text = []"
   ]
  },
  {
   "cell_type": "code",
   "execution_count": 31,
   "id": "413499dd",
   "metadata": {},
   "outputs": [],
   "source": [
    "pdf_reader = PyPDF2.PdfReader(f)"
   ]
  },
  {
   "cell_type": "code",
   "execution_count": 34,
   "id": "652b6ff4",
   "metadata": {},
   "outputs": [],
   "source": [
    "for p in range(len(pdf_reader.pages)):\n",
    "    page=pdf_reader.pages[p]\n",
    "    pdf_text.append(page.extract_text())\n",
    "    "
   ]
  },
  {
   "cell_type": "code",
   "execution_count": 35,
   "id": "28d1d022",
   "metadata": {},
   "outputs": [],
   "source": [
    "f.close()"
   ]
  },
  {
   "cell_type": "code",
   "execution_count": 36,
   "id": "4d4ad10e",
   "metadata": {},
   "outputs": [
    {
     "data": {
      "text/plain": [
       "[' \\nRahul Pathak  \\nStudent  \\n   \\n(+91) 79999 -26080  rahulpathak9628@gmail.com  http://www.linkedin.co\\nm/in/rahul -pathak -\\n83b96524a  \\nSkills   \\nEducational Qualification  \\nPython Programming  \\nMySQL  \\nMS-Excel   \\nM.Sc. (Data Science)  \\nAsian Academy of Film and Television  \\n2023 – 2025  \\n \\nB.Sc. (Mathematics)  \\nAPS University  \\nYear of Completion - 2023  \\n \\nIntermediate  \\nMP Board  \\nYear of Completion - 2019  \\n Strengths  \\nPositive approach towards \\ntask.  \\nI am highly self -motivated to \\nwork.  \\nComputer knowledge.  \\nEnthusiasm to learn.  \\nHonest.  \\n',\n",
       " 'Language Known  High School  \\nMP Board  \\nYear of Completion - 2017  \\n \\n  \\nProjects  \\nMS-Excel Dashboard  \\n• Created Intractive and dynamic MS excel dashboard, which \\nused to display large data track of IPL.   \\n \\nBank Database Using MYSQL  \\n• Banking Database is the name for the database that keeps \\ntrack of all transactions involving emission offsets, such as \\ndeposits, withdrawals, and transfers.   \\nAnagram Solver Using Python Programming  \\n• An anagram is a word or phrase formed by rearranging the \\nletters of a different word or phrase, typically using all the \\noriginal letters exactly once.  \\n Hindi  \\nEnglish  \\n ',\n",
       " ' \\nRahul Pathak  \\nStudent  \\n   \\n(+91) 79999 -26080  rahulpathak9628@gmail.com  http://www.linkedin.co\\nm/in/rahul -pathak -\\n83b96524a  \\nSkills   \\nEducational Qualification  \\nPython Programming  \\nMySQL  \\nMS-Excel   \\nM.Sc. (Data Science)  \\nAsian Academy of Film and Television  \\n2023 – 2025  \\n \\nB.Sc. (Mathematics)  \\nAPS University  \\nYear of Completion - 2023  \\n \\nIntermediate  \\nMP Board  \\nYear of Completion - 2019  \\n Strengths  \\nPositive approach towards \\ntask.  \\nI am highly self -motivated to \\nwork.  \\nComputer knowledge.  \\nEnthusiasm to learn.  \\nHonest.  \\n',\n",
       " 'Language Known  High School  \\nMP Board  \\nYear of Completion - 2017  \\n \\n  \\nProjects  \\nMS-Excel Dashboard  \\n• Created Intractive and dynamic MS excel dashboard, which \\nused to display large data track of IPL.   \\n \\nBank Database Using MYSQL  \\n• Banking Database is the name for the database that keeps \\ntrack of all transactions involving emission offsets, such as \\ndeposits, withdrawals, and transfers.   \\nAnagram Solver Using Python Programming  \\n• An anagram is a word or phrase formed by rearranging the \\nletters of a different word or phrase, typically using all the \\noriginal letters exactly once.  \\n Hindi  \\nEnglish  \\n ']"
      ]
     },
     "execution_count": 36,
     "metadata": {},
     "output_type": "execute_result"
    }
   ],
   "source": [
    "pdf_text"
   ]
  },
  {
   "cell_type": "code",
   "execution_count": 37,
   "id": "06a30ac3",
   "metadata": {},
   "outputs": [
    {
     "data": {
      "text/plain": [
       "4"
      ]
     },
     "execution_count": 37,
     "metadata": {},
     "output_type": "execute_result"
    }
   ],
   "source": [
    "len(pdf_text)"
   ]
  },
  {
   "cell_type": "code",
   "execution_count": 38,
   "id": "1583569a",
   "metadata": {},
   "outputs": [
    {
     "name": "stdout",
     "output_type": "stream",
     "text": [
      " \n",
      "Rahul Pathak  \n",
      "Student  \n",
      "   \n",
      "(+91) 79999 -26080  rahulpathak9628@gmail.com  http://www.linkedin.co\n",
      "m/in/rahul -pathak -\n",
      "83b96524a  \n",
      "Skills   \n",
      "Educational Qualification  \n",
      "Python Programming  \n",
      "MySQL  \n",
      "MS-Excel   \n",
      "M.Sc. (Data Science)  \n",
      "Asian Academy of Film and Television  \n",
      "2023 – 2025  \n",
      " \n",
      "B.Sc. (Mathematics)  \n",
      "APS University  \n",
      "Year of Completion - 2023  \n",
      " \n",
      "Intermediate  \n",
      "MP Board  \n",
      "Year of Completion - 2019  \n",
      " Strengths  \n",
      "Positive approach towards \n",
      "task.  \n",
      "I am highly self -motivated to \n",
      "work.  \n",
      "Computer knowledge.  \n",
      "Enthusiasm to learn.  \n",
      "Honest.  \n",
      "\n",
      "\n",
      "\n",
      "\n",
      "\n",
      "\n",
      "\n",
      "\n",
      "\n",
      "Language Known  High School  \n",
      "MP Board  \n",
      "Year of Completion - 2017  \n",
      " \n",
      "  \n",
      "Projects  \n",
      "MS-Excel Dashboard  \n",
      "• Created Intractive and dynamic MS excel dashboard, which \n",
      "used to display large data track of IPL.   \n",
      " \n",
      "Bank Database Using MYSQL  \n",
      "• Banking Database is the name for the database that keeps \n",
      "track of all transactions involving emission offsets, such as \n",
      "deposits, withdrawals, and transfers.   \n",
      "Anagram Solver Using Python Programming  \n",
      "• An anagram is a word or phrase formed by rearranging the \n",
      "letters of a different word or phrase, typically using all the \n",
      "original letters exactly once.  \n",
      " Hindi  \n",
      "English  \n",
      " \n",
      "\n",
      "\n",
      "\n",
      "\n",
      "\n",
      "\n",
      "\n",
      "\n",
      " \n",
      "Rahul Pathak  \n",
      "Student  \n",
      "   \n",
      "(+91) 79999 -26080  rahulpathak9628@gmail.com  http://www.linkedin.co\n",
      "m/in/rahul -pathak -\n",
      "83b96524a  \n",
      "Skills   \n",
      "Educational Qualification  \n",
      "Python Programming  \n",
      "MySQL  \n",
      "MS-Excel   \n",
      "M.Sc. (Data Science)  \n",
      "Asian Academy of Film and Television  \n",
      "2023 – 2025  \n",
      " \n",
      "B.Sc. (Mathematics)  \n",
      "APS University  \n",
      "Year of Completion - 2023  \n",
      " \n",
      "Intermediate  \n",
      "MP Board  \n",
      "Year of Completion - 2019  \n",
      " Strengths  \n",
      "Positive approach towards \n",
      "task.  \n",
      "I am highly self -motivated to \n",
      "work.  \n",
      "Computer knowledge.  \n",
      "Enthusiasm to learn.  \n",
      "Honest.  \n",
      "\n",
      "\n",
      "\n",
      "\n",
      "\n",
      "\n",
      "\n",
      "\n",
      "\n",
      "Language Known  High School  \n",
      "MP Board  \n",
      "Year of Completion - 2017  \n",
      " \n",
      "  \n",
      "Projects  \n",
      "MS-Excel Dashboard  \n",
      "• Created Intractive and dynamic MS excel dashboard, which \n",
      "used to display large data track of IPL.   \n",
      " \n",
      "Bank Database Using MYSQL  \n",
      "• Banking Database is the name for the database that keeps \n",
      "track of all transactions involving emission offsets, such as \n",
      "deposits, withdrawals, and transfers.   \n",
      "Anagram Solver Using Python Programming  \n",
      "• An anagram is a word or phrase formed by rearranging the \n",
      "letters of a different word or phrase, typically using all the \n",
      "original letters exactly once.  \n",
      " Hindi  \n",
      "English  \n",
      " \n",
      "\n",
      "\n",
      "\n",
      "\n",
      "\n",
      "\n",
      "\n",
      "\n"
     ]
    }
   ],
   "source": [
    "for page in pdf_text:\n",
    "    print(page)\n",
    "    print('\\n')\n",
    "    print('\\n')\n",
    "    print('\\n')\n",
    "    print('\\n')"
   ]
  },
  {
   "cell_type": "code",
   "execution_count": 40,
   "id": "6404c918",
   "metadata": {},
   "outputs": [],
   "source": [
    "f= open(pdf_path,'rb')"
   ]
  },
  {
   "cell_type": "code",
   "execution_count": 44,
   "id": "7372d7b7",
   "metadata": {},
   "outputs": [],
   "source": [
    "pdf_reader = PyPDF2.PdfReader(f)"
   ]
  },
  {
   "cell_type": "code",
   "execution_count": 46,
   "id": "4d9ed11c",
   "metadata": {},
   "outputs": [],
   "source": [
    "first_page=pdf_reader.pages[0]"
   ]
  },
  {
   "cell_type": "code",
   "execution_count": 52,
   "id": "3ec113a9",
   "metadata": {},
   "outputs": [],
   "source": [
    "pdf_writter = PyPDF2.PdfWriter()\n"
   ]
  },
  {
   "cell_type": "code",
   "execution_count": 53,
   "id": "98eadaea",
   "metadata": {},
   "outputs": [
    {
     "data": {
      "text/plain": [
       "{'/Type': '/Page',\n",
       " '/Resources': {'/Font': {'/F1': {'/Type': '/Font',\n",
       "    '/Subtype': '/TrueType',\n",
       "    '/Name': '/F1',\n",
       "    '/BaseFont': '/BCDEEE+Bierstadt-Regular',\n",
       "    '/Encoding': '/WinAnsiEncoding',\n",
       "    '/FontDescriptor': {'/Type': '/FontDescriptor',\n",
       "     '/FontName': '/BCDEEE+Bierstadt-Regular',\n",
       "     '/Flags': 32,\n",
       "     '/ItalicAngle': 0,\n",
       "     '/Ascent': 880,\n",
       "     '/Descent': -260,\n",
       "     '/CapHeight': 742,\n",
       "     '/AvgWidth': 525,\n",
       "     '/MaxWidth': 1859,\n",
       "     '/FontWeight': 400,\n",
       "     '/XHeight': 250,\n",
       "     '/StemV': 52,\n",
       "     '/FontBBox': [-652, -260, 1207, 742],\n",
       "     '/FontFile2': {'/Filter': '/FlateDecode', '/Length1': 11160}},\n",
       "    '/FirstChar': 32,\n",
       "    '/LastChar': 121,\n",
       "    '/Widths': [219,\n",
       "     0,\n",
       "     0,\n",
       "     0,\n",
       "     0,\n",
       "     0,\n",
       "     0,\n",
       "     0,\n",
       "     295,\n",
       "     295,\n",
       "     0,\n",
       "     543,\n",
       "     286,\n",
       "     349,\n",
       "     286,\n",
       "     340,\n",
       "     543,\n",
       "     543,\n",
       "     543,\n",
       "     543,\n",
       "     543,\n",
       "     543,\n",
       "     543,\n",
       "     543,\n",
       "     543,\n",
       "     543,\n",
       "     286,\n",
       "     0,\n",
       "     0,\n",
       "     0,\n",
       "     0,\n",
       "     0,\n",
       "     895,\n",
       "     590,\n",
       "     604,\n",
       "     692,\n",
       "     682,\n",
       "     557,\n",
       "     524,\n",
       "     0,\n",
       "     708,\n",
       "     261,\n",
       "     0,\n",
       "     0,\n",
       "     500,\n",
       "     791,\n",
       "     0,\n",
       "     0,\n",
       "     578,\n",
       "     732,\n",
       "     0,\n",
       "     567,\n",
       "     479,\n",
       "     682,\n",
       "     0,\n",
       "     0,\n",
       "     0,\n",
       "     541,\n",
       "     0,\n",
       "     0,\n",
       "     0,\n",
       "     0,\n",
       "     0,\n",
       "     0,\n",
       "     0,\n",
       "     532,\n",
       "     561,\n",
       "     526,\n",
       "     562,\n",
       "     527,\n",
       "     302,\n",
       "     485,\n",
       "     552,\n",
       "     239,\n",
       "     0,\n",
       "     488,\n",
       "     261,\n",
       "     854,\n",
       "     552,\n",
       "     552,\n",
       "     561,\n",
       "     0,\n",
       "     335,\n",
       "     487,\n",
       "     324,\n",
       "     559,\n",
       "     453,\n",
       "     722,\n",
       "     443,\n",
       "     453]},\n",
       "   '/F2': {'/Type': '/Font',\n",
       "    '/Subtype': '/TrueType',\n",
       "    '/Name': '/F2',\n",
       "    '/BaseFont': '/BCDFEE+SagonaBook-Bold',\n",
       "    '/Encoding': '/WinAnsiEncoding',\n",
       "    '/FontDescriptor': {'/Type': '/FontDescriptor',\n",
       "     '/FontName': '/BCDFEE+SagonaBook-Bold',\n",
       "     '/Flags': 32,\n",
       "     '/ItalicAngle': 0,\n",
       "     '/Ascent': 960,\n",
       "     '/Descent': -250,\n",
       "     '/CapHeight': 750,\n",
       "     '/AvgWidth': 582,\n",
       "     '/MaxWidth': 1559,\n",
       "     '/FontWeight': 700,\n",
       "     '/XHeight': 250,\n",
       "     '/StemV': 58,\n",
       "     '/FontBBox': [-143, -250, 1416, 750],\n",
       "     '/FontFile2': {'/Filter': '/FlateDecode', '/Length1': 24228}},\n",
       "    '/FirstChar': 32,\n",
       "    '/LastChar': 119,\n",
       "    '/Widths': [188,\n",
       "     0,\n",
       "     0,\n",
       "     0,\n",
       "     0,\n",
       "     0,\n",
       "     0,\n",
       "     0,\n",
       "     0,\n",
       "     0,\n",
       "     0,\n",
       "     0,\n",
       "     0,\n",
       "     0,\n",
       "     0,\n",
       "     0,\n",
       "     0,\n",
       "     0,\n",
       "     0,\n",
       "     0,\n",
       "     0,\n",
       "     0,\n",
       "     0,\n",
       "     0,\n",
       "     0,\n",
       "     0,\n",
       "     0,\n",
       "     0,\n",
       "     0,\n",
       "     0,\n",
       "     0,\n",
       "     0,\n",
       "     0,\n",
       "     0,\n",
       "     0,\n",
       "     0,\n",
       "     0,\n",
       "     683,\n",
       "     0,\n",
       "     0,\n",
       "     0,\n",
       "     0,\n",
       "     0,\n",
       "     790,\n",
       "     653,\n",
       "     0,\n",
       "     0,\n",
       "     0,\n",
       "     695,\n",
       "     789,\n",
       "     754,\n",
       "     603,\n",
       "     0,\n",
       "     0,\n",
       "     0,\n",
       "     0,\n",
       "     0,\n",
       "     0,\n",
       "     0,\n",
       "     0,\n",
       "     0,\n",
       "     0,\n",
       "     0,\n",
       "     0,\n",
       "     0,\n",
       "     578,\n",
       "     0,\n",
       "     567,\n",
       "     654,\n",
       "     574,\n",
       "     410,\n",
       "     556,\n",
       "     657,\n",
       "     347,\n",
       "     335,\n",
       "     645,\n",
       "     352,\n",
       "     0,\n",
       "     661,\n",
       "     599,\n",
       "     0,\n",
       "     0,\n",
       "     511,\n",
       "     488,\n",
       "     411,\n",
       "     657,\n",
       "     0,\n",
       "     903]},\n",
       "   '/F3': {'/Type': '/Font',\n",
       "    '/Subtype': '/TrueType',\n",
       "    '/Name': '/F3',\n",
       "    '/BaseFont': '/BCDGEE+Aptos',\n",
       "    '/Encoding': '/WinAnsiEncoding',\n",
       "    '/FontDescriptor': {'/Type': '/FontDescriptor',\n",
       "     '/FontName': '/BCDGEE+Aptos',\n",
       "     '/Flags': 32,\n",
       "     '/ItalicAngle': 0,\n",
       "     '/Ascent': 939,\n",
       "     '/Descent': -282,\n",
       "     '/CapHeight': 939,\n",
       "     '/AvgWidth': 561,\n",
       "     '/MaxWidth': 1682,\n",
       "     '/FontWeight': 400,\n",
       "     '/XHeight': 250,\n",
       "     '/StemV': 56,\n",
       "     '/FontBBox': [-500, -282, 1182, 939],\n",
       "     '/FontFile2': {'/Filter': '/FlateDecode', '/Length1': 23500}},\n",
       "    '/FirstChar': 32,\n",
       "    '/LastChar': 121,\n",
       "    '/Widths': [203,\n",
       "     0,\n",
       "     0,\n",
       "     0,\n",
       "     0,\n",
       "     0,\n",
       "     0,\n",
       "     0,\n",
       "     0,\n",
       "     0,\n",
       "     0,\n",
       "     0,\n",
       "     286,\n",
       "     0,\n",
       "     286,\n",
       "     0,\n",
       "     0,\n",
       "     0,\n",
       "     0,\n",
       "     0,\n",
       "     0,\n",
       "     0,\n",
       "     0,\n",
       "     0,\n",
       "     0,\n",
       "     0,\n",
       "     0,\n",
       "     0,\n",
       "     0,\n",
       "     0,\n",
       "     0,\n",
       "     0,\n",
       "     0,\n",
       "     589,\n",
       "     604,\n",
       "     0,\n",
       "     686,\n",
       "     0,\n",
       "     0,\n",
       "     0,\n",
       "     0,\n",
       "     0,\n",
       "     0,\n",
       "     0,\n",
       "     0,\n",
       "     0,\n",
       "     0,\n",
       "     0,\n",
       "     0,\n",
       "     0,\n",
       "     0,\n",
       "     0,\n",
       "     0,\n",
       "     0,\n",
       "     0,\n",
       "     0,\n",
       "     0,\n",
       "     0,\n",
       "     0,\n",
       "     0,\n",
       "     0,\n",
       "     0,\n",
       "     0,\n",
       "     0,\n",
       "     0,\n",
       "     531,\n",
       "     561,\n",
       "     525,\n",
       "     561,\n",
       "     527,\n",
       "     301,\n",
       "     484,\n",
       "     551,\n",
       "     239,\n",
       "     0,\n",
       "     487,\n",
       "     260,\n",
       "     853,\n",
       "     551,\n",
       "     552,\n",
       "     561,\n",
       "     0,\n",
       "     334,\n",
       "     486,\n",
       "     323,\n",
       "     559,\n",
       "     452,\n",
       "     721,\n",
       "     442,\n",
       "     452]},\n",
       "   '/F4': {'/Type': '/Font',\n",
       "    '/Subtype': '/TrueType',\n",
       "    '/Name': '/F4',\n",
       "    '/BaseFont': '/BCDHEE+SagonaBook',\n",
       "    '/Encoding': '/WinAnsiEncoding',\n",
       "    '/FontDescriptor': {'/Type': '/FontDescriptor',\n",
       "     '/FontName': '/BCDHEE+SagonaBook',\n",
       "     '/Flags': 32,\n",
       "     '/ItalicAngle': 0,\n",
       "     '/Ascent': 960,\n",
       "     '/Descent': -250,\n",
       "     '/CapHeight': 750,\n",
       "     '/AvgWidth': 558,\n",
       "     '/MaxWidth': 1528,\n",
       "     '/FontWeight': 400,\n",
       "     '/XHeight': 250,\n",
       "     '/StemV': 55,\n",
       "     '/FontBBox': [-165, -250, 1363, 750],\n",
       "     '/FontFile2': {'/Filter': '/FlateDecode', '/Length1': 22796}},\n",
       "    '/FirstChar': 32,\n",
       "    '/LastChar': 116,\n",
       "    '/Widths': [180,\n",
       "     0,\n",
       "     0,\n",
       "     0,\n",
       "     0,\n",
       "     0,\n",
       "     0,\n",
       "     0,\n",
       "     355,\n",
       "     335,\n",
       "     0,\n",
       "     0,\n",
       "     0,\n",
       "     0,\n",
       "     252,\n",
       "     0,\n",
       "     0,\n",
       "     0,\n",
       "     0,\n",
       "     0,\n",
       "     0,\n",
       "     0,\n",
       "     0,\n",
       "     0,\n",
       "     0,\n",
       "     0,\n",
       "     0,\n",
       "     0,\n",
       "     0,\n",
       "     0,\n",
       "     0,\n",
       "     0,\n",
       "     0,\n",
       "     0,\n",
       "     640,\n",
       "     0,\n",
       "     782,\n",
       "     0,\n",
       "     0,\n",
       "     0,\n",
       "     795,\n",
       "     399,\n",
       "     0,\n",
       "     0,\n",
       "     0,\n",
       "     927,\n",
       "     0,\n",
       "     0,\n",
       "     0,\n",
       "     0,\n",
       "     0,\n",
       "     586,\n",
       "     0,\n",
       "     0,\n",
       "     0,\n",
       "     0,\n",
       "     0,\n",
       "     0,\n",
       "     0,\n",
       "     0,\n",
       "     0,\n",
       "     0,\n",
       "     0,\n",
       "     0,\n",
       "     0,\n",
       "     564,\n",
       "     0,\n",
       "     550,\n",
       "     646,\n",
       "     542,\n",
       "     0,\n",
       "     516,\n",
       "     635,\n",
       "     338,\n",
       "     0,\n",
       "     0,\n",
       "     343,\n",
       "     920,\n",
       "     650,\n",
       "     584,\n",
       "     0,\n",
       "     0,\n",
       "     480,\n",
       "     469,\n",
       "     364]},\n",
       "   '/F5': {'/Type': '/Font',\n",
       "    '/Subtype': '/Type0',\n",
       "    '/BaseFont': '/BCDIEE+Aptos',\n",
       "    '/Encoding': '/Identity-H',\n",
       "    '/DescendantFonts': [IndirectObject(23, 0, 2034120049488)],\n",
       "    '/ToUnicode': {'/Filter': '/FlateDecode'}},\n",
       "   '/F6': {'/Type': '/Font',\n",
       "    '/Subtype': '/TrueType',\n",
       "    '/Name': '/F6',\n",
       "    '/BaseFont': '/TimesNewRomanPSMT',\n",
       "    '/Encoding': '/WinAnsiEncoding',\n",
       "    '/FontDescriptor': {'/Type': '/FontDescriptor',\n",
       "     '/FontName': '/TimesNewRomanPSMT',\n",
       "     '/Flags': 32,\n",
       "     '/ItalicAngle': 0,\n",
       "     '/Ascent': 891,\n",
       "     '/Descent': -216,\n",
       "     '/CapHeight': 693,\n",
       "     '/AvgWidth': 401,\n",
       "     '/MaxWidth': 2614,\n",
       "     '/FontWeight': 400,\n",
       "     '/XHeight': 250,\n",
       "     '/StemV': 40,\n",
       "     '/FontBBox': [-568, -216, 2046, 693]},\n",
       "    '/FirstChar': 32,\n",
       "    '/LastChar': 121,\n",
       "    '/Widths': [250,\n",
       "     0,\n",
       "     0,\n",
       "     0,\n",
       "     0,\n",
       "     0,\n",
       "     0,\n",
       "     0,\n",
       "     0,\n",
       "     0,\n",
       "     0,\n",
       "     0,\n",
       "     0,\n",
       "     333,\n",
       "     250,\n",
       "     0,\n",
       "     0,\n",
       "     0,\n",
       "     0,\n",
       "     0,\n",
       "     0,\n",
       "     0,\n",
       "     0,\n",
       "     0,\n",
       "     0,\n",
       "     0,\n",
       "     0,\n",
       "     0,\n",
       "     0,\n",
       "     0,\n",
       "     0,\n",
       "     0,\n",
       "     0,\n",
       "     0,\n",
       "     0,\n",
       "     667,\n",
       "     0,\n",
       "     611,\n",
       "     0,\n",
       "     0,\n",
       "     722,\n",
       "     333,\n",
       "     0,\n",
       "     0,\n",
       "     0,\n",
       "     0,\n",
       "     0,\n",
       "     0,\n",
       "     556,\n",
       "     0,\n",
       "     0,\n",
       "     0,\n",
       "     0,\n",
       "     0,\n",
       "     0,\n",
       "     0,\n",
       "     0,\n",
       "     0,\n",
       "     0,\n",
       "     0,\n",
       "     0,\n",
       "     0,\n",
       "     0,\n",
       "     0,\n",
       "     0,\n",
       "     444,\n",
       "     0,\n",
       "     444,\n",
       "     500,\n",
       "     444,\n",
       "     333,\n",
       "     500,\n",
       "     500,\n",
       "     278,\n",
       "     0,\n",
       "     500,\n",
       "     278,\n",
       "     778,\n",
       "     500,\n",
       "     500,\n",
       "     500,\n",
       "     0,\n",
       "     333,\n",
       "     389,\n",
       "     278,\n",
       "     500,\n",
       "     500,\n",
       "     722,\n",
       "     0,\n",
       "     500]}},\n",
       "  '/ExtGState': {'/GS7': {'/Type': '/ExtGState', '/BM': '/Normal', '/ca': 1},\n",
       "   '/GS8': {'/Type': '/ExtGState', '/BM': '/Normal', '/CA': 1}},\n",
       "  '/XObject': {'/Image26': {'/Type': '/XObject',\n",
       "    '/Subtype': '/Image',\n",
       "    '/Width': 72,\n",
       "    '/Height': 72,\n",
       "    '/ColorSpace': '/DeviceRGB',\n",
       "    '/BitsPerComponent': 8,\n",
       "    '/Interpolate': False,\n",
       "    '/SMask': {'/Type': '/XObject',\n",
       "     '/Subtype': '/Image',\n",
       "     '/Width': 72,\n",
       "     '/Height': 72,\n",
       "     '/ColorSpace': '/DeviceGray',\n",
       "     '/Matte': [0, 0, 0],\n",
       "     '/BitsPerComponent': 8,\n",
       "     '/Interpolate': False,\n",
       "     '/Filter': '/FlateDecode'},\n",
       "    '/Filter': '/FlateDecode'},\n",
       "   '/Image28': {'/Type': '/XObject',\n",
       "    '/Subtype': '/Image',\n",
       "    '/Width': 72,\n",
       "    '/Height': 72,\n",
       "    '/ColorSpace': '/DeviceRGB',\n",
       "    '/BitsPerComponent': 8,\n",
       "    '/Interpolate': False,\n",
       "    '/SMask': {'/Type': '/XObject',\n",
       "     '/Subtype': '/Image',\n",
       "     '/Width': 72,\n",
       "     '/Height': 72,\n",
       "     '/ColorSpace': '/DeviceGray',\n",
       "     '/Matte': [0, 0, 0],\n",
       "     '/BitsPerComponent': 8,\n",
       "     '/Interpolate': False,\n",
       "     '/Filter': '/FlateDecode'},\n",
       "    '/Filter': '/FlateDecode'},\n",
       "   '/Image30': {'/Type': '/XObject',\n",
       "    '/Subtype': '/Image',\n",
       "    '/Width': 72,\n",
       "    '/Height': 72,\n",
       "    '/ColorSpace': '/DeviceRGB',\n",
       "    '/BitsPerComponent': 8,\n",
       "    '/Interpolate': False,\n",
       "    '/SMask': {'/Type': '/XObject',\n",
       "     '/Subtype': '/Image',\n",
       "     '/Width': 72,\n",
       "     '/Height': 72,\n",
       "     '/ColorSpace': '/DeviceGray',\n",
       "     '/Matte': [0, 0, 0],\n",
       "     '/BitsPerComponent': 8,\n",
       "     '/Interpolate': False,\n",
       "     '/Filter': '/FlateDecode'},\n",
       "    '/Filter': '/FlateDecode'}},\n",
       "  '/ProcSet': ['/PDF', '/Text', '/ImageB', '/ImageC', '/ImageI']},\n",
       " '/Annots': [IndirectObject(39, 0, 2034120049488),\n",
       "  IndirectObject(40, 0, 2034120049488),\n",
       "  IndirectObject(41, 0, 2034120049488),\n",
       "  IndirectObject(42, 0, 2034120049488)],\n",
       " '/MediaBox': [0, 0, 612, 792],\n",
       " '/Contents': {'/Filter': '/FlateDecode'},\n",
       " '/Group': {'/Type': '/Group', '/S': '/Transparency', '/CS': '/DeviceRGB'},\n",
       " '/Tabs': '/S',\n",
       " '/Parent': {'/Type': '/Pages',\n",
       "  '/Count': 1,\n",
       "  '/Kids': [IndirectObject(4, 0, 2034120049488)]}}"
      ]
     },
     "execution_count": 53,
     "metadata": {},
     "output_type": "execute_result"
    }
   ],
   "source": [
    "pdf_writter.add_page(first_page)"
   ]
  },
  {
   "cell_type": "code",
   "execution_count": 54,
   "id": "2ec82e94",
   "metadata": {},
   "outputs": [],
   "source": [
    "pdf_output = open('New_Doc.pdf','wb')"
   ]
  },
  {
   "cell_type": "code",
   "execution_count": 55,
   "id": "a1d0d9d1",
   "metadata": {},
   "outputs": [
    {
     "data": {
      "text/plain": [
       "(False, <_io.BufferedWriter name='New_Doc.pdf'>)"
      ]
     },
     "execution_count": 55,
     "metadata": {},
     "output_type": "execute_result"
    }
   ],
   "source": [
    "pdf_writter.write(pdf_output)"
   ]
  },
  {
   "cell_type": "code",
   "execution_count": 56,
   "id": "e8b7866c",
   "metadata": {},
   "outputs": [],
   "source": [
    "pdf_output.close()"
   ]
  },
  {
   "cell_type": "code",
   "execution_count": 57,
   "id": "94ba7c11",
   "metadata": {},
   "outputs": [],
   "source": [
    "f=open('New_Doc.pdf','rb')"
   ]
  },
  {
   "cell_type": "code",
   "execution_count": 58,
   "id": "79d48d90",
   "metadata": {},
   "outputs": [],
   "source": [
    "pdf_reader = PyPDF2.PdfReader(f)"
   ]
  },
  {
   "cell_type": "code",
   "execution_count": 59,
   "id": "9a4be7e9",
   "metadata": {},
   "outputs": [
    {
     "data": {
      "text/plain": [
       "1"
      ]
     },
     "execution_count": 59,
     "metadata": {},
     "output_type": "execute_result"
    }
   ],
   "source": [
    "len(pdf_reader.pages)"
   ]
  },
  {
   "cell_type": "code",
   "execution_count": 60,
   "id": "5f303ba5",
   "metadata": {},
   "outputs": [],
   "source": [
    "page_one = pdf_reader.pages[0]"
   ]
  },
  {
   "cell_type": "code",
   "execution_count": 61,
   "id": "76d15168",
   "metadata": {},
   "outputs": [],
   "source": [
    "page_one_text = page_one.extract_text()"
   ]
  },
  {
   "cell_type": "code",
   "execution_count": 62,
   "id": "60212984",
   "metadata": {},
   "outputs": [
    {
     "data": {
      "text/plain": [
       "' \\nRahul Pathak  \\nStudent  \\n   \\n(+91) 79999 -26080  rahulpathak9628@gmail.com  http://www.linkedin.co\\nm/in/rahul -pathak -\\n83b96524a  \\nSkills   \\nEducational Qualification  \\nPython Programming  \\nMySQL  \\nMS-Excel   \\nM.Sc. (Data Science)  \\nAsian Academy of Film and Television  \\n2023 – 2025  \\n \\nB.Sc. (Mathematics)  \\nAPS University  \\nYear of Completion - 2023  \\n \\nIntermediate  \\nMP Board  \\nYear of Completion - 2019  \\n Strengths  \\nPositive approach towards \\ntask.  \\nI am highly self -motivated to \\nwork.  \\nComputer knowledge.  \\nEnthusiasm to learn.  \\nHonest.  \\n'"
      ]
     },
     "execution_count": 62,
     "metadata": {},
     "output_type": "execute_result"
    }
   ],
   "source": [
    "page_one_text"
   ]
  },
  {
   "cell_type": "code",
   "execution_count": 63,
   "id": "4a48e269",
   "metadata": {},
   "outputs": [],
   "source": [
    "f.close()"
   ]
  },
  {
   "cell_type": "code",
   "execution_count": null,
   "id": "f77f178b",
   "metadata": {},
   "outputs": [],
   "source": []
  },
  {
   "cell_type": "code",
   "execution_count": null,
   "id": "2b2391ae",
   "metadata": {},
   "outputs": [],
   "source": []
  },
  {
   "cell_type": "code",
   "execution_count": null,
   "id": "8976ebf4",
   "metadata": {},
   "outputs": [],
   "source": []
  },
  {
   "cell_type": "code",
   "execution_count": null,
   "id": "66d21b34",
   "metadata": {},
   "outputs": [],
   "source": []
  },
  {
   "cell_type": "code",
   "execution_count": null,
   "id": "93d6526e",
   "metadata": {},
   "outputs": [],
   "source": []
  },
  {
   "cell_type": "code",
   "execution_count": null,
   "id": "f7cdd273",
   "metadata": {},
   "outputs": [],
   "source": []
  },
  {
   "cell_type": "code",
   "execution_count": null,
   "id": "8b3b55a7",
   "metadata": {},
   "outputs": [],
   "source": []
  },
  {
   "cell_type": "code",
   "execution_count": null,
   "id": "8de56da8",
   "metadata": {},
   "outputs": [],
   "source": []
  },
  {
   "cell_type": "code",
   "execution_count": null,
   "id": "7e18a79a",
   "metadata": {},
   "outputs": [],
   "source": []
  },
  {
   "cell_type": "code",
   "execution_count": 7,
   "id": "1cb06d5b",
   "metadata": {},
   "outputs": [
    {
     "name": "stdout",
     "output_type": "stream",
     "text": [
      "a 5\n"
     ]
    }
   ],
   "source": [
    "l1=['a','small','is','large','is','college','a','simple','a']\n",
    "count=0\n",
    "for i in l1:\n",
    "    if l1.count(i)>1:\n",
    "        count+=1\n",
    "print(i,count)\n"
   ]
  },
  {
   "cell_type": "code",
   "execution_count": null,
   "id": "f61270b4",
   "metadata": {},
   "outputs": [],
   "source": []
  }
 ],
 "metadata": {
  "kernelspec": {
   "display_name": "Python 3 (ipykernel)",
   "language": "python",
   "name": "python3"
  },
  "language_info": {
   "codemirror_mode": {
    "name": "ipython",
    "version": 3
   },
   "file_extension": ".py",
   "mimetype": "text/x-python",
   "name": "python",
   "nbconvert_exporter": "python",
   "pygments_lexer": "ipython3",
   "version": "3.11.5"
  }
 },
 "nbformat": 4,
 "nbformat_minor": 5
}
