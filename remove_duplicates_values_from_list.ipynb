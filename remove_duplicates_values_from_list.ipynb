{
  "nbformat": 4,
  "nbformat_minor": 0,
  "metadata": {
    "colab": {
      "provenance": [],
      "authorship_tag": "ABX9TyOWGYe5tYNNG1HsPzScbRGE",
      "include_colab_link": true
    },
    "kernelspec": {
      "name": "python3",
      "display_name": "Python 3"
    },
    "language_info": {
      "name": "python"
    }
  },
  "cells": [
    {
      "cell_type": "markdown",
      "metadata": {
        "id": "view-in-github",
        "colab_type": "text"
      },
      "source": [
        "<a href=\"https://colab.research.google.com/github/Rahul9628/Project/blob/main/Untitled0.ipynb\" target=\"_parent\"><img src=\"https://colab.research.google.com/assets/colab-badge.svg\" alt=\"Open In Colab\"/></a>"
      ]
    },
    {
      "cell_type": "code",
      "execution_count": null,
      "metadata": {
        "id": "V2uutQUfC-1T"
      },
      "outputs": [],
      "source": [
        "def remove_duplicates(list):\n",
        "    for i in a:\n",
        "        if i not in new_list:\n",
        "            new_list.append(i)\n",
        "    return new_list\n",
        "a=[2,5,1,2,5,1,2,6,4,2,1,3,6,5,1,2,5,4,78]\n",
        "new_list=[]\n",
        "remove_duplicates(a)\n",
        "print(new_list)"
      ]
    }
  ]
}
